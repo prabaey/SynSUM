{
 "cells": [
  {
   "cell_type": "markdown",
   "metadata": {},
   "source": [
    "# Expert evaluation\n",
    "\n",
    "We conduct an expert evaluation to test the quality of a random subset of our patient notes. We give 5 experts a random subset of 30 of the generated notes. The subset of notes that were seen by the evaluators are selected below. "
   ]
  },
  {
   "cell_type": "code",
   "execution_count": 5,
   "metadata": {},
   "outputs": [],
   "source": [
    "import pickle\n",
    "with open(\"../data/df_prompts.p\", \"rb\") as file: \n",
    "    df = pickle.load(file)"
   ]
  },
  {
   "cell_type": "code",
   "execution_count": 6,
   "metadata": {},
   "outputs": [],
   "source": [
    "note_ids = [108, 4867, 7508, 1954, 6268, 8309, 7519, 2236, 7332, 5379, 4441, 4983, 4501, 3624, 9963,  851, 6876, 9122, 8313, 6862,  261, 9026, 6330, 1160, 8622,  840, 3854, 2179, 4362,  849]"
   ]
  },
  {
   "cell_type": "markdown",
   "metadata": {},
   "source": [
    "The experts get to see the prompt, the note and the compact version of the note. We print these below for the first 5 notes in the subset. "
   ]
  },
  {
   "cell_type": "code",
   "execution_count": 11,
   "metadata": {},
   "outputs": [
    {
     "data": {
      "text/html": [
       "<div>\n",
       "<style scoped>\n",
       "    .dataframe tbody tr th:only-of-type {\n",
       "        vertical-align: middle;\n",
       "    }\n",
       "\n",
       "    .dataframe tbody tr th {\n",
       "        vertical-align: top;\n",
       "    }\n",
       "\n",
       "    .dataframe thead th {\n",
       "        text-align: right;\n",
       "    }\n",
       "</style>\n",
       "<table border=\"1\" class=\"dataframe\">\n",
       "  <thead>\n",
       "    <tr style=\"text-align: right;\">\n",
       "      <th></th>\n",
       "      <th>prompt</th>\n",
       "      <th>text_note</th>\n",
       "      <th>advanced_note</th>\n",
       "    </tr>\n",
       "  </thead>\n",
       "  <tbody>\n",
       "    <tr>\n",
       "      <th>108</th>\n",
       "      <td>Create a short clinical note related to the following patient encounter.\\n \\nThe patient does not experience any of the following symptoms:\\n- fever\\n- dyspnea\\n- chest pain / pain attributed to airways\\n- sneezing / blocked nose\\n- cough\\n \\nThe patient does not have any of the following health conditions, so don't mention these: \\n- asthma\\n- COPD\\n- smoking\\n- hay fever\\n \\nThe note has the following structure: \\n**History**\\n&lt;history&gt;\\n**Physical Examination**\\n&lt;physical examination results&gt;\\n \\nDo not include any suspicions of possible diagnoses in the clinical note (no \"assessment\" field). You can imagine context or details described by the patient. Do not mention patient gender or age. Your notes can be relatively long (around 5 lines or more in history).\\n\\nDo not add a title. Do not add a final comment after generating the note.</td>\n",
       "      <td>**History**\\nThe patient reports recurrent headaches occurring 2-3 times weekly for a duration of about two months. Headaches are described as bilateral, throbbing, and moderate in intensity, often alleviated by over-the-counter analgesics. No associated fever, visual disturbances, nausea, vomiting, or respiratory symptoms such as sneezing, blocked nose, or cough are noted. The patient has a stable diet and regular sleep schedule, but noted increased screen time lately.\\n\\n**Physical Examination**\\nA generally healthy-looking patient with a BMI within normal range. Vital signs: BP 115/70 mmHg, HR 64 bpm, Temp 98.5°F. Cardiovascular examination reveals regular heart rhythm without murmurs. Lungs are clear and without abnormalities. Neurological examination: the patient is alert and oriented with no focal neurological deficits, normal reflexes, and intact cranial nerves.</td>\n",
       "      <td>**History**\\nPt reports recurrent HAs 2-3x/wk x 2 mo. HAs are bilateral, throbbing, mod intensity, relieved by OTC analgesics. No fever, visual changes, nausea, vomiting (V), or respiratory sx (sneezing, blocked nose, cough). Stable diet/sleep; notes ↑ screen time.\\n\\n**Physical Examination**\\nAlert, well-appearing pt, NAD. BMI nl. Vitals: BP 115/70, HR 64, Temp 98.5°F. CVS: RRR, no murmurs. Lungs: CTA bilat. Neuro: AOx3, no focal deficits, nml reflexes, intact CNs.</td>\n",
       "    </tr>\n",
       "    <tr>\n",
       "      <th>4867</th>\n",
       "      <td>Create a short clinical note related to the following patient encounter. \\n\\nThe following information is known about the patient's symptoms:\\n- fever: high\\n- cough: no\\n\\nDon't mention anything about the following symptoms:\\n- nasal symptoms\\n- dyspnea\\n- respiratory pain\\n\\nThe note has the following structure: \\n**History**\\n&lt;history&gt;\\n**Physical Examination**\\n&lt;physical examination results&gt;\\n\\nDo not include any suspicions of possible diagnoses in the clinical note (no \"assessment\" field). You can imagine additional context or details described by the patient, but no additional symptoms. Do not mention patient gender or age. Your notes can be relatively long (around 5 lines or more in history).\\n\\nDo not add a title. Do not add a final comment after generating the note.</td>\n",
       "      <td>**History**\\nThe patient reports experiencing a high fever for the past three days. They describe the fever as consistently high, not fluctuating throughout the day. During this time, the patient has intentionally taken their temperature twice a day using a clean thermometer, which has consistently read above 102°F. The patient emphasizes no accompanying cough, which they typically experience with febrile illnesses. The patient maintains adequate hydration and a regular diet. Before this onset, the patient has had no recent travel history or known exposure to any sick individuals. They deny any unusual activities or stressors leading up to the onset of fever.\\n\\n**Physical Examination**\\nOn examination, the patient is alert and oriented, though they appear flushed and mildly fatigued. Vital signs reveal a temperature of 103.1°F, heart rate of 95 beats per minute, respiratory rate of 18 breaths per minute, and blood pressure at 120/80 mmHg. Skin is moist and warm to the touch with signs of mild diaphoretic episodes. Head and neck examination is normal, as is the examination of the cardiovascular and gastrointestinal systems. Neurological examination reveals no focal deficits, and the patient demonstrates normal strength and sensory responses throughout all extremities. The patient's general physician condition appears stable. \\n\\n</td>\n",
       "      <td>**History**\\nPt c/o high fever x3 days, consistently &gt;102°F, measuring BID with clean thermometer. No cough. Adequate hydration and diet maintained. No recent travel/exposure to illness. No preceding unusual activities or stress. Denies accompanying symptoms.\\n\\n**Physical Examination**\\nAlert, oriented. Vitals: Temp 103.1°F, HR 95, RR 18, BP 120/80. Skin warm, moist, mild diaphoretic. Normal head/neck, cardiovascular, and GI exams. Neuro exam: no focal deficits, normal strength/sensory in extremities. Pt appears stable overall.</td>\n",
       "    </tr>\n",
       "    <tr>\n",
       "      <th>7508</th>\n",
       "      <td>Create a short clinical note related to the following patient encounter. \\n\\nThe following information is known about the patient's symptoms:\\n- cough: no\\n- nasal symptoms: yes\\n\\nDon't mention anything about the following symptoms:\\n- fever\\n- dyspnea\\n- respiratory pain\\n\\nThe note has the following structure: \\n**History**\\n&lt;history&gt;\\n**Physical Examination**\\n&lt;physical examination results&gt;\\n\\nDo not include any suspicions of possible diagnoses in the clinical note (no \"assessment\" field). You can imagine additional context or details described by the patient, but no additional symptoms. Do not mention patient gender or age. Your notes can be relatively long (around 5 lines or more in history).\\n\\nDo not add a title. Do not add a final comment after generating the note.</td>\n",
       "      <td>**History**\\nThe patient reports experiencing significant nasal congestion and rhinorrhea over the past three days. The patient describes frequent sneezing and a sensation of pressure around the sinuses, especially in the mornings. Denies any episodes of cough. The symptoms seem to worsen when exposed to colder environments or allergens, such as dust and pollen. There is no redness or irritation in the eyes, but the patient mentions a feeling of fatigue due to disrupted sleep.\\n\\n**Physical Examination**\\nVital signs are stable. Nasal turbinates appear erythematous and swollen upon inspection, with clear discharge noted bilaterally. Mild tenderness upon palpation of the maxillary sinuses. Throat examination shows a mildly erythematous oropharynx without exudates. No lymphadenopathy detected in the neck area. No abnormal breath sounds or adventitious sounds noted during lung auscultation. Cardiac auscultation reveals a regular rhythm without murmurs. No dermatological findings evident.</td>\n",
       "      <td>**History**\\nPt reports nasal congestion and rhinorrhea x3 days, with frequent sneezing and sinus pressure, worse in AM. No cough. Sx exacerbated by cold and allergens (dust, pollen). Eyes unremarkable, but fatigued due to poor sleep.\\n\\n**Physical Examination**\\nVS stable. Nasal turbinates erythematous, swollen, clear discharge B/L. Mild maxillary sinus tenderness. Throat mildly erythematous, no exudates. No cervical LAD. Lungs: CTA bilaterally. Heart: RRR, no murmurs. Skin: unremarkable.</td>\n",
       "    </tr>\n",
       "    <tr>\n",
       "      <th>1954</th>\n",
       "      <td>Create a short clinical note related to the following patient encounter.\\n \\nThe patient does not experience any of the following symptoms:\\n- fever\\n- dyspnea\\n- chest pain / pain attributed to airways\\n- sneezing / blocked nose\\n- cough\\n \\nThe patient does not have any of the following health conditions, so don't mention these: \\n- asthma\\n- COPD\\n- smoking\\n- hay fever\\n \\nThe note has the following structure: \\n**History**\\n&lt;history&gt;\\n**Physical Examination**\\n&lt;physical examination results&gt;\\n \\nDo not include any suspicions of possible diagnoses in the clinical note (no \"assessment\" field). You can imagine context or details described by the patient. Do not mention patient gender or age. Your notes can be relatively long (around 5 lines or more in history).\\n\\nDo not add a title. Do not add a final comment after generating the note.</td>\n",
       "      <td>**History**\\nThe patient indicates mild but persistent headaches occurring twice a week for the past month. Headaches are described as bilateral with a gradual onset and usually resolve with over-the-counter analgesics. No history of head injury, visual disturbances, or weakness. Reports working long hours at a computer and noticeable eye strain by day's end. No history of migraines or recent infections.\\n\\n**Physical Examination**\\nNeurological examination reveals intact cranial nerves, motor function, and reflexes. No papilledema upon fundoscopic examination. Head and neck palpation reveals no tenderness. Eyes do not exhibit nystagmus; extraocular movements are full and painless. Musculoskeletal palpation of the cervical spine reveals slight tenderness with no abnormal masses.</td>\n",
       "      <td>**History**\\nPt reports mild, persistent HA 2x/wk x1 mo. Describes as bilat, gradual onset, resolving w/ OTC analgesics. No Hx of head injury, visual disturb., or weakness. Pt works long hours at computer, notes eye strain EOD. No migraine or recent infections Hx.\\n\\n**Physical Examination**\\nNeuro exam: intact CNs, motor, reflexes. Fundoscopic: no papilledema. Head/neck palp: no tenderness. Eyes: no nystagmus, full EOM, painless. MS palp of cervical spine: slight tenderness, no abnormal masses.</td>\n",
       "    </tr>\n",
       "    <tr>\n",
       "      <th>6268</th>\n",
       "      <td>Create a short clinical note related to the following patient encounter.\\n \\nThe patient does not experience any of the following symptoms:\\n- fever\\n- dyspnea\\n- chest pain / pain attributed to airways\\n- sneezing / blocked nose\\n- cough\\n \\nThe patient does not have any of the following health conditions, so don't mention these: \\n- asthma\\n- COPD\\n- smoking\\n- hay fever\\n \\nThe note has the following structure: \\n**History**\\n&lt;history&gt;\\n**Physical Examination**\\n&lt;physical examination results&gt;\\n \\nDo not include any suspicions of possible diagnoses in the clinical note (no \"assessment\" field). You can imagine context or details described by the patient. Do not mention patient gender or age. Your notes can be relatively long (around 5 lines or more in history).\\n\\nDo not add a title. Do not add a final comment after generating the note.</td>\n",
       "      <td>**History**\\nThe patient presents with intermittent abdominal bloating exacerbated after meals over the past month. They mentioned increased intake of fried foods and carbonated beverages recently due to social gatherings. The bloating is sometimes accompanied by mild epigastric discomfort but no severe pain.\\n\\n**Physical Examination**\\nVital signs: Blood pressure 122/75 mmHg, heart rate 76 bpm, respiratory rate 15/min, temperature 36.6°C. Abdomen soft, not distended, mild tenderness in the epigastric region on palpation, no rebound tenderness or guarding. Bowel sounds present and normal. No organomegaly noted.</td>\n",
       "      <td>**History**\\nPt reports intermittent abd bloating worsened post-meals over past month. Recent ↑ fried foods &amp; carbonated drinks intake at social events. Mild epigastric discomfort noted, no severe pain.\\n\\n**Physical Examination**\\nVitals: BP 122/75, HR 76, RR 15, Temp 36.6°C. Abd soft, non-distended, mild epigastric TTP, no rebound or guarding. Normal bowel sounds, no organomegaly.</td>\n",
       "    </tr>\n",
       "  </tbody>\n",
       "</table>\n",
       "</div>"
      ],
      "text/plain": [
       "                                                                                                                                                                                                                                                                                                                                                                                                                                                                                                                                                                                                                                                                                                                                                                                                                                                                                  prompt  \\\n",
       "108   Create a short clinical note related to the following patient encounter.\\n \\nThe patient does not experience any of the following symptoms:\\n- fever\\n- dyspnea\\n- chest pain / pain attributed to airways\\n- sneezing / blocked nose\\n- cough\\n \\nThe patient does not have any of the following health conditions, so don't mention these: \\n- asthma\\n- COPD\\n- smoking\\n- hay fever\\n \\nThe note has the following structure: \\n**History**\\n<history>\\n**Physical Examination**\\n<physical examination results>\\n \\nDo not include any suspicions of possible diagnoses in the clinical note (no \"assessment\" field). You can imagine context or details described by the patient. Do not mention patient gender or age. Your notes can be relatively long (around 5 lines or more in history).\\n\\nDo not add a title. Do not add a final comment after generating the note.    \n",
       "4867                                                                  Create a short clinical note related to the following patient encounter. \\n\\nThe following information is known about the patient's symptoms:\\n- fever: high\\n- cough: no\\n\\nDon't mention anything about the following symptoms:\\n- nasal symptoms\\n- dyspnea\\n- respiratory pain\\n\\nThe note has the following structure: \\n**History**\\n<history>\\n**Physical Examination**\\n<physical examination results>\\n\\nDo not include any suspicions of possible diagnoses in the clinical note (no \"assessment\" field). You can imagine additional context or details described by the patient, but no additional symptoms. Do not mention patient gender or age. Your notes can be relatively long (around 5 lines or more in history).\\n\\nDo not add a title. Do not add a final comment after generating the note.    \n",
       "7508                                                                   Create a short clinical note related to the following patient encounter. \\n\\nThe following information is known about the patient's symptoms:\\n- cough: no\\n- nasal symptoms: yes\\n\\nDon't mention anything about the following symptoms:\\n- fever\\n- dyspnea\\n- respiratory pain\\n\\nThe note has the following structure: \\n**History**\\n<history>\\n**Physical Examination**\\n<physical examination results>\\n\\nDo not include any suspicions of possible diagnoses in the clinical note (no \"assessment\" field). You can imagine additional context or details described by the patient, but no additional symptoms. Do not mention patient gender or age. Your notes can be relatively long (around 5 lines or more in history).\\n\\nDo not add a title. Do not add a final comment after generating the note.    \n",
       "1954  Create a short clinical note related to the following patient encounter.\\n \\nThe patient does not experience any of the following symptoms:\\n- fever\\n- dyspnea\\n- chest pain / pain attributed to airways\\n- sneezing / blocked nose\\n- cough\\n \\nThe patient does not have any of the following health conditions, so don't mention these: \\n- asthma\\n- COPD\\n- smoking\\n- hay fever\\n \\nThe note has the following structure: \\n**History**\\n<history>\\n**Physical Examination**\\n<physical examination results>\\n \\nDo not include any suspicions of possible diagnoses in the clinical note (no \"assessment\" field). You can imagine context or details described by the patient. Do not mention patient gender or age. Your notes can be relatively long (around 5 lines or more in history).\\n\\nDo not add a title. Do not add a final comment after generating the note.    \n",
       "6268  Create a short clinical note related to the following patient encounter.\\n \\nThe patient does not experience any of the following symptoms:\\n- fever\\n- dyspnea\\n- chest pain / pain attributed to airways\\n- sneezing / blocked nose\\n- cough\\n \\nThe patient does not have any of the following health conditions, so don't mention these: \\n- asthma\\n- COPD\\n- smoking\\n- hay fever\\n \\nThe note has the following structure: \\n**History**\\n<history>\\n**Physical Examination**\\n<physical examination results>\\n \\nDo not include any suspicions of possible diagnoses in the clinical note (no \"assessment\" field). You can imagine context or details described by the patient. Do not mention patient gender or age. Your notes can be relatively long (around 5 lines or more in history).\\n\\nDo not add a title. Do not add a final comment after generating the note.    \n",
       "\n",
       "                                                                                                                                                                                                                                                                                                                                                                                                                                                                                                                                                                                                                                                                                                                                                                                                                                                                                                                                                                                                                                                                                                                                                                                                                                                                                                                                                                                                    text_note  \\\n",
       "108                                                                                                                                                                                                                                                                                                                                                                                                                                                                                         **History**\\nThe patient reports recurrent headaches occurring 2-3 times weekly for a duration of about two months. Headaches are described as bilateral, throbbing, and moderate in intensity, often alleviated by over-the-counter analgesics. No associated fever, visual disturbances, nausea, vomiting, or respiratory symptoms such as sneezing, blocked nose, or cough are noted. The patient has a stable diet and regular sleep schedule, but noted increased screen time lately.\\n\\n**Physical Examination**\\nA generally healthy-looking patient with a BMI within normal range. Vital signs: BP 115/70 mmHg, HR 64 bpm, Temp 98.5°F. Cardiovascular examination reveals regular heart rhythm without murmurs. Lungs are clear and without abnormalities. Neurological examination: the patient is alert and oriented with no focal neurological deficits, normal reflexes, and intact cranial nerves.   \n",
       "4867  **History**\\nThe patient reports experiencing a high fever for the past three days. They describe the fever as consistently high, not fluctuating throughout the day. During this time, the patient has intentionally taken their temperature twice a day using a clean thermometer, which has consistently read above 102°F. The patient emphasizes no accompanying cough, which they typically experience with febrile illnesses. The patient maintains adequate hydration and a regular diet. Before this onset, the patient has had no recent travel history or known exposure to any sick individuals. They deny any unusual activities or stressors leading up to the onset of fever.\\n\\n**Physical Examination**\\nOn examination, the patient is alert and oriented, though they appear flushed and mildly fatigued. Vital signs reveal a temperature of 103.1°F, heart rate of 95 beats per minute, respiratory rate of 18 breaths per minute, and blood pressure at 120/80 mmHg. Skin is moist and warm to the touch with signs of mild diaphoretic episodes. Head and neck examination is normal, as is the examination of the cardiovascular and gastrointestinal systems. Neurological examination reveals no focal deficits, and the patient demonstrates normal strength and sensory responses throughout all extremities. The patient's general physician condition appears stable. \\n\\n   \n",
       "7508                                                                                                                                                                                                                                                                                                                                                                  **History**\\nThe patient reports experiencing significant nasal congestion and rhinorrhea over the past three days. The patient describes frequent sneezing and a sensation of pressure around the sinuses, especially in the mornings. Denies any episodes of cough. The symptoms seem to worsen when exposed to colder environments or allergens, such as dust and pollen. There is no redness or irritation in the eyes, but the patient mentions a feeling of fatigue due to disrupted sleep.\\n\\n**Physical Examination**\\nVital signs are stable. Nasal turbinates appear erythematous and swollen upon inspection, with clear discharge noted bilaterally. Mild tenderness upon palpation of the maxillary sinuses. Throat examination shows a mildly erythematous oropharynx without exudates. No lymphadenopathy detected in the neck area. No abnormal breath sounds or adventitious sounds noted during lung auscultation. Cardiac auscultation reveals a regular rhythm without murmurs. No dermatological findings evident.   \n",
       "1954                                                                                                                                                                                                                                                                                                                                                                                                                                                                                                                                                                                    **History**\\nThe patient indicates mild but persistent headaches occurring twice a week for the past month. Headaches are described as bilateral with a gradual onset and usually resolve with over-the-counter analgesics. No history of head injury, visual disturbances, or weakness. Reports working long hours at a computer and noticeable eye strain by day's end. No history of migraines or recent infections.\\n\\n**Physical Examination**\\nNeurological examination reveals intact cranial nerves, motor function, and reflexes. No papilledema upon fundoscopic examination. Head and neck palpation reveals no tenderness. Eyes do not exhibit nystagmus; extraocular movements are full and painless. Musculoskeletal palpation of the cervical spine reveals slight tenderness with no abnormal masses.   \n",
       "6268                                                                                                                                                                                                                                                                                                                                                                                                                                                                                                                                                                                                                                                                                                                                                              **History**\\nThe patient presents with intermittent abdominal bloating exacerbated after meals over the past month. They mentioned increased intake of fried foods and carbonated beverages recently due to social gatherings. The bloating is sometimes accompanied by mild epigastric discomfort but no severe pain.\\n\\n**Physical Examination**\\nVital signs: Blood pressure 122/75 mmHg, heart rate 76 bpm, respiratory rate 15/min, temperature 36.6°C. Abdomen soft, not distended, mild tenderness in the epigastric region on palpation, no rebound tenderness or guarding. Bowel sounds present and normal. No organomegaly noted.   \n",
       "\n",
       "                                                                                                                                                                                                                                                                                                                                                                                                                                                                                                                                               advanced_note  \n",
       "108                                                                   **History**\\nPt reports recurrent HAs 2-3x/wk x 2 mo. HAs are bilateral, throbbing, mod intensity, relieved by OTC analgesics. No fever, visual changes, nausea, vomiting (V), or respiratory sx (sneezing, blocked nose, cough). Stable diet/sleep; notes ↑ screen time.\\n\\n**Physical Examination**\\nAlert, well-appearing pt, NAD. BMI nl. Vitals: BP 115/70, HR 64, Temp 98.5°F. CVS: RRR, no murmurs. Lungs: CTA bilat. Neuro: AOx3, no focal deficits, nml reflexes, intact CNs.  \n",
       "4867  **History**\\nPt c/o high fever x3 days, consistently >102°F, measuring BID with clean thermometer. No cough. Adequate hydration and diet maintained. No recent travel/exposure to illness. No preceding unusual activities or stress. Denies accompanying symptoms.\\n\\n**Physical Examination**\\nAlert, oriented. Vitals: Temp 103.1°F, HR 95, RR 18, BP 120/80. Skin warm, moist, mild diaphoretic. Normal head/neck, cardiovascular, and GI exams. Neuro exam: no focal deficits, normal strength/sensory in extremities. Pt appears stable overall.  \n",
       "7508                                          **History**\\nPt reports nasal congestion and rhinorrhea x3 days, with frequent sneezing and sinus pressure, worse in AM. No cough. Sx exacerbated by cold and allergens (dust, pollen). Eyes unremarkable, but fatigued due to poor sleep.\\n\\n**Physical Examination**\\nVS stable. Nasal turbinates erythematous, swollen, clear discharge B/L. Mild maxillary sinus tenderness. Throat mildly erythematous, no exudates. No cervical LAD. Lungs: CTA bilaterally. Heart: RRR, no murmurs. Skin: unremarkable.  \n",
       "1954                                    **History**\\nPt reports mild, persistent HA 2x/wk x1 mo. Describes as bilat, gradual onset, resolving w/ OTC analgesics. No Hx of head injury, visual disturb., or weakness. Pt works long hours at computer, notes eye strain EOD. No migraine or recent infections Hx.\\n\\n**Physical Examination**\\nNeuro exam: intact CNs, motor, reflexes. Fundoscopic: no papilledema. Head/neck palp: no tenderness. Eyes: no nystagmus, full EOM, painless. MS palp of cervical spine: slight tenderness, no abnormal masses.  \n",
       "6268                                                                                                                                                       **History**\\nPt reports intermittent abd bloating worsened post-meals over past month. Recent ↑ fried foods & carbonated drinks intake at social events. Mild epigastric discomfort noted, no severe pain.\\n\\n**Physical Examination**\\nVitals: BP 122/75, HR 76, RR 15, Temp 36.6°C. Abd soft, non-distended, mild epigastric TTP, no rebound or guarding. Normal bowel sounds, no organomegaly.  "
      ]
     },
     "execution_count": 11,
     "metadata": {},
     "output_type": "execute_result"
    }
   ],
   "source": [
    "import pandas as pd\n",
    "pd.set_option('display.max_colwidth', None)\n",
    "df.loc[note_ids][[\"prompt\", \"text_note\", \"advanced_note\"]].head()"
   ]
  },
  {
   "cell_type": "markdown",
   "metadata": {},
   "source": [
    "The evaluators rated the following aspects on a scale of 1-5:\n",
    "- consistency with the prompt\n",
    "- realism of the history portion\n",
    "- realism of the physical examination portion\n",
    "- clinical accuracy of the physical examination portion \n",
    "- content of the compact note\n",
    "- readability of the compact note\n",
    "\n",
    "The results for our 5 evaluators are found in the files \"eval/evaluator_{i}.csv\". "
   ]
  },
  {
   "cell_type": "code",
   "execution_count": 18,
   "metadata": {},
   "outputs": [],
   "source": [
    "results = {}\n",
    "for i in range(5): \n",
    "    with open(f\"../eval/evaluator_{i+1}.csv\", \"rb\") as file: \n",
    "        results[i] = pd.read_csv(file)"
   ]
  },
  {
   "cell_type": "code",
   "execution_count": 19,
   "metadata": {},
   "outputs": [],
   "source": [
    "import numpy as np\n",
    "def calc_metric(metric):\n",
    "    means = []\n",
    "    for i in range(5): \n",
    "        mean = np.mean(list(results[i][metric]))\n",
    "        means.append(mean)\n",
    "    return np.mean(means), np.std(means)"
   ]
  },
  {
   "cell_type": "code",
   "execution_count": 22,
   "metadata": {},
   "outputs": [
    {
     "name": "stdout",
     "output_type": "stream",
     "text": [
      "average score for consistency: 4.693333333333333 (std: 0.12364824660660931)\n",
      "average score for realism_hist: 4.526666666666666 (std: 0.20591260281973991)\n",
      "average score for realism_phys: 4.1466666666666665 (std: 0.30228757463345685)\n",
      "average score for clinical_accuracy: 4.92 (std: 0.07483314773547897)\n",
      "average score for compact_content: 4.88 (std: 0.10022197585581945)\n",
      "average score for compact_readability: 4.0200000000000005 (std: 0.3145366963222787)\n"
     ]
    }
   ],
   "source": [
    "for metric in [\"consistency\", \"realism_hist\", \"realism_phys\", \"clinical_accuracy\", \"compact_content\", \"compact_readability\"]: \n",
    "    mean, std = calc_metric(metric)\n",
    "    print(f\"average score for {metric}: {mean} (std: {std})\")"
   ]
  },
  {
   "cell_type": "markdown",
   "metadata": {},
   "source": [
    "Inter-annotator agreement scores (using Krippendorff's alpha): "
   ]
  },
  {
   "cell_type": "code",
   "execution_count": 26,
   "metadata": {},
   "outputs": [],
   "source": [
    "import krippendorff as kd \n",
    "\n",
    "def calc_krip(metric): \n",
    "    results_metric = []\n",
    "    for i in range(5):\n",
    "        results_metric.append(list(results[i][metric]))\n",
    "    data = np.array(results_metric)\n",
    "    score = kd.alpha(data, level_of_measurement=\"ordinal\") # expects raters as rows, columns as subjects\n",
    "    return score"
   ]
  },
  {
   "cell_type": "code",
   "execution_count": 29,
   "metadata": {},
   "outputs": [
    {
     "name": "stdout",
     "output_type": "stream",
     "text": [
      "IAA for consistency: 0.4431960261061637\n",
      "IAA for realism_hist: 0.25052957115250196\n",
      "IAA for realism_phys: 0.319377000687062\n",
      "IAA for clinical_accuracy: 0.20508755234107345\n",
      "IAA for compact_content: -0.019034240561896176\n",
      "IAA for compact_readability: 0.35960560508793327\n"
     ]
    }
   ],
   "source": [
    "for metric in [\"consistency\", \"realism_hist\", \"realism_phys\", \"clinical_accuracy\", \"compact_content\", \"compact_readability\"]:\n",
    "    print(f\"IAA for {metric}: {calc_krip(metric)}\")"
   ]
  },
  {
   "cell_type": "code",
   "execution_count": null,
   "metadata": {},
   "outputs": [],
   "source": []
  }
 ],
 "metadata": {
  "kernelspec": {
   "display_name": "bn-text",
   "language": "python",
   "name": "python3"
  },
  "language_info": {
   "codemirror_mode": {
    "name": "ipython",
    "version": 3
   },
   "file_extension": ".py",
   "mimetype": "text/x-python",
   "name": "python",
   "nbconvert_exporter": "python",
   "pygments_lexer": "ipython3",
   "version": "3.11.4"
  }
 },
 "nbformat": 4,
 "nbformat_minor": 2
}
