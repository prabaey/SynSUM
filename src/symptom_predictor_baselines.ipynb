{
 "cells": [
  {
   "cell_type": "markdown",
   "metadata": {},
   "source": [
    "# Symptom predictor baselines\n",
    "\n",
    "We run some simple symptom predictor baselines on our SynSUM dataset. \n",
    "\n",
    "- BN-tab: Bayesian network trained to predict a symptom given other tabular features in the dataset. \n",
    "- XGBoost-tab: XGBoost classifier trained to predict a symptom given other tabular features in the dataset. \n",
    "- Neural-text: Neural classifier trained to predict a symptom given only text as an input. \n",
    "- Neural-text-tab: Neural classifier trained to predcit a symtpom, given the concatenation of text and tabular features at the input. \n",
    "\n",
    "For more information, we refer to the paper. \n",
    "\n",
    "We split the dataset into a train and test set, performing all our experiments on the same split. "
   ]
  },
  {
   "cell_type": "code",
   "execution_count": 23,
   "metadata": {},
   "outputs": [],
   "source": [
    "import sys\n",
    "sys.path.append('../')"
   ]
  },
  {
   "cell_type": "code",
   "execution_count": 2,
   "metadata": {},
   "outputs": [],
   "source": [
    "import pickle\n",
    "with open(\"../data/df_synsum.p\", \"rb\") as file: \n",
    "    df = pickle.load(file)"
   ]
  },
  {
   "cell_type": "code",
   "execution_count": 3,
   "metadata": {},
   "outputs": [],
   "source": [
    "from sklearn.model_selection import train_test_split\n",
    "df_train, df_test = train_test_split(df, test_size=0.2, random_state=2024)"
   ]
  },
  {
   "cell_type": "code",
   "execution_count": 4,
   "metadata": {},
   "outputs": [
    {
     "data": {
      "text/plain": [
       "(8000, 2000)"
      ]
     },
     "execution_count": 4,
     "metadata": {},
     "output_type": "execute_result"
    }
   ],
   "source": [
    "len(df_train), len(df_test)"
   ]
  },
  {
   "cell_type": "code",
   "execution_count": 5,
   "metadata": {},
   "outputs": [],
   "source": [
    "import pickle\n",
    "with open(\"../data/df_train.p\", \"wb\") as file: \n",
    "    pickle.dump(df_train, file)\n",
    "with open(\"../data/df_test.p\", \"wb\") as file: \n",
    "    pickle.dump(df_test, file)"
   ]
  },
  {
   "cell_type": "markdown",
   "metadata": {},
   "source": [
    "## BN-tab \n",
    "\n",
    "We learn all parameters in the Bayesian network from the tabular portion of the training data. There are 4 types of distributions in the network, each defined by their own set of parameters: \n",
    "- Noisy OR (dysp, cough, pain, nasal)\n",
    "- Conditional probability tables (policy, self_empl, asthma, smoking, COPD, winter, hay_fever, pneu, inf, fever)\n",
    "- Logistic regression (antibiotics)\n",
    "- Poisson regression (days at home)\n",
    "\n",
    "The file \"bayesian_network.py\" contains the classes that implement all of these types of conditional distributions. Each distribution has a set of parameters that can be learned from the data. After we learn its parameters, we transform the distribution into a conditional probability table. These tables can be loaded into the Bayesian network functionality of the pgmpy library, which gives us access to the built-in Bayesian inference methods. \n",
    "\n",
    "### Noisy-OR"
   ]
  },
  {
   "cell_type": "code",
   "execution_count": null,
   "metadata": {},
   "outputs": [],
   "source": [
    "import pickle\n",
    "with open(\"../data/df_train.p\", \"rb\") as file: \n",
    "    df_train = pickle.load(file)"
   ]
  },
  {
   "cell_type": "code",
   "execution_count": 2,
   "metadata": {},
   "outputs": [],
   "source": [
    "CPTs = {}"
   ]
  },
  {
   "cell_type": "code",
   "execution_count": 3,
   "metadata": {},
   "outputs": [
    {
     "name": "stderr",
     "output_type": "stream",
     "text": [
      "c:\\Users\\Paloma\\Work\\SynSUM\\bayesian_network.py:106: UserWarning: To copy construct from a tensor, it is recommended to use sourceTensor.clone().detach() or sourceTensor.clone().detach().requires_grad_(True), rather than torch.tensor(sourceTensor).\n",
      "  input = {parent:torch.tensor(val) for parent, val in input.items()}\n",
      "c:\\Users\\Paloma\\Work\\SynSUM\\bayesian_network.py:106: UserWarning: To copy construct from a tensor, it is recommended to use sourceTensor.clone().detach() or sourceTensor.clone().detach().requires_grad_(True), rather than torch.tensor(sourceTensor).\n",
      "  input = {parent:torch.tensor(val) for parent, val in input.items()}\n",
      "c:\\Users\\Paloma\\Work\\SynSUM\\bayesian_network.py:106: UserWarning: To copy construct from a tensor, it is recommended to use sourceTensor.clone().detach() or sourceTensor.clone().detach().requires_grad_(True), rather than torch.tensor(sourceTensor).\n",
      "  input = {parent:torch.tensor(val) for parent, val in input.items()}\n",
      "c:\\Users\\Paloma\\Work\\SynSUM\\bayesian_network.py:106: UserWarning: To copy construct from a tensor, it is recommended to use sourceTensor.clone().detach() or sourceTensor.clone().detach().requires_grad_(True), rather than torch.tensor(sourceTensor).\n",
      "  input = {parent:torch.tensor(val) for parent, val in input.items()}\n"
     ]
    }
   ],
   "source": [
    "from utils.bayesian_network import NoisyOr\n",
    "import torch\n",
    "\n",
    "parents = {\"dysp\": [\"asthma\", \"smoking\", \"COPD\", \"hay_fever\", \"pneu\"], \n",
    "           \"cough\": [\"asthma\", \"smoking\", \"COPD\", \"pneu\", \"inf\"], \n",
    "           \"pain\": [\"COPD\", \"cough\", \"pneu\", \"inf\"], \n",
    "           \"nasal\": [\"hay_fever\", \"inf\"]}\n",
    "\n",
    "for symptom in [\"dysp\", \"cough\", \"pain\", \"nasal\"]: \n",
    "    torch.manual_seed(2023)\n",
    "    model = NoisyOr(symptom, parents[symptom])\n",
    "    model.train(df_train)\n",
    "    CPTs[symptom] = model.get_CPT()"
   ]
  },
  {
   "cell_type": "markdown",
   "metadata": {},
   "source": [
    "Example: CPT learned for symptom \"nasal\""
   ]
  },
  {
   "cell_type": "code",
   "execution_count": 4,
   "metadata": {},
   "outputs": [
    {
     "data": {
      "text/plain": [
       "array([[0.96016   , 0.87174815, 0.71788067, 0.09180903],\n",
       "       [0.03983998, 0.12825185, 0.28211933, 0.90819097]], dtype=float32)"
      ]
     },
     "execution_count": 4,
     "metadata": {},
     "output_type": "execute_result"
    }
   ],
   "source": [
    "CPTs[\"nasal\"] # ordering: [hay_fever=yes, inf=yes],[hay_fever=yes, inf=no],[hay_fever=no, inf=yes],[hay_fever=no, inf=no]"
   ]
  },
  {
   "cell_type": "markdown",
   "metadata": {},
   "source": [
    "### Antibiotics"
   ]
  },
  {
   "cell_type": "code",
   "execution_count": 5,
   "metadata": {},
   "outputs": [
    {
     "name": "stderr",
     "output_type": "stream",
     "text": [
      "c:\\Users\\Paloma\\Work\\SynSUM\\bayesian_network.py:202: UserWarning: To copy construct from a tensor, it is recommended to use sourceTensor.clone().detach() or sourceTensor.clone().detach().requires_grad_(True), rather than torch.tensor(sourceTensor).\n",
      "  input = {parent:torch.tensor(val) for parent, val in input.items()}\n"
     ]
    }
   ],
   "source": [
    "from utils.bayesian_network import Antibiotics\n",
    "import torch \n",
    "\n",
    "torch.manual_seed(2023)\n",
    "model = Antibiotics(\"antibiotics\", [\"policy\", \"dysp\", \"cough\", \"pain\", \"fever\"])\n",
    "model.train(df_train)\n",
    "CPTs[\"antibiotics\"] = model.get_CPT()"
   ]
  },
  {
   "cell_type": "code",
   "execution_count": 6,
   "metadata": {},
   "outputs": [
    {
     "data": {
      "text/plain": [
       "array([[0.9160996 , 0.853743  , 0.85330427, 0.7566731 , 0.83303124,\n",
       "        0.7273134 , 0.7266168 , 0.58693147, 0.8144449 , 0.7011803 ,\n",
       "        0.70044446, 0.5555658 , 0.6672835 , 0.5174165 , 0.5165401 ,\n",
       "        0.36353695, 0.7336057 , 0.5955035 , 0.5946579 , 0.43955323,\n",
       "        0.5571896 , 0.40216166, 0.40131816, 0.26382035, 0.52539164,\n",
       "        0.37178287, 0.3709635 , 0.23970175, 0.33590952, 0.21285412,\n",
       "        0.21226671, 0.12591772, 0.5274045 , 0.37367052, 0.3728495 ,\n",
       "        0.24117623, 0.337713  , 0.21421003, 0.21361987, 0.126809  ,\n",
       "        0.30968073, 0.19343509, 0.19288813, 0.11328851, 0.17011069,\n",
       "        0.09876053, 0.0984486 , 0.05515819],\n",
       "       [0.08390039, 0.14625698, 0.14669573, 0.2433269 , 0.16696876,\n",
       "        0.2726866 , 0.2733832 , 0.41306853, 0.1855551 , 0.29881972,\n",
       "        0.29955554, 0.44443423, 0.33271652, 0.48258352, 0.4834599 ,\n",
       "        0.63646305, 0.26639432, 0.4044965 , 0.4053421 , 0.56044674,\n",
       "        0.44281042, 0.59783834, 0.5986818 , 0.73617965, 0.47460836,\n",
       "        0.6282171 , 0.6290365 , 0.76029825, 0.6640905 , 0.78714585,\n",
       "        0.7877333 , 0.87408227, 0.4725955 , 0.6263295 , 0.62715054,\n",
       "        0.75882375, 0.662287  , 0.78578997, 0.7863801 , 0.873191  ,\n",
       "        0.6903193 , 0.8065649 , 0.80711186, 0.8867115 , 0.8298893 ,\n",
       "        0.90123945, 0.90155137, 0.9448418 ]], dtype=float32)"
      ]
     },
     "execution_count": 6,
     "metadata": {},
     "output_type": "execute_result"
    }
   ],
   "source": [
    "CPTs[\"antibiotics\"] # ordering: fever, policy, dysp, cough, pain (values always from high to low)"
   ]
  },
  {
   "cell_type": "markdown",
   "metadata": {},
   "source": [
    "### Days at home"
   ]
  },
  {
   "cell_type": "code",
   "execution_count": 7,
   "metadata": {},
   "outputs": [
    {
     "name": "stderr",
     "output_type": "stream",
     "text": [
      "c:\\Users\\Paloma\\Work\\SynSUM\\bayesian_network.py:311: UserWarning: To copy construct from a tensor, it is recommended to use sourceTensor.clone().detach() or sourceTensor.clone().detach().requires_grad_(True), rather than torch.tensor(sourceTensor).\n",
      "  input = {parent:torch.tensor(val) for parent, val in input.items()}\n"
     ]
    }
   ],
   "source": [
    "from utils.bayesian_network import DaysAtHome\n",
    "import torch \n",
    "\n",
    "torch.manual_seed(2023)\n",
    "model = DaysAtHome(\"days_at_home\", [\"antibiotics\", \"self_empl\", \"dysp\", \"cough\", \"pain\", \"nasal\", \"fever\"])\n",
    "model.train(df_train)\n",
    "CPTs[\"days_at_home\"] = model.get_CPT()"
   ]
  },
  {
   "cell_type": "code",
   "execution_count": 8,
   "metadata": {},
   "outputs": [
    {
     "data": {
      "text/plain": [
       "array([[1.14047071e-02, 1.56522114e-02, 4.27800007e-02, ...,\n",
       "        1.94828108e-01, 3.72160017e-01, 3.66029054e-01],\n",
       "       [5.10215722e-02, 6.50684759e-02, 1.34829074e-01, ...,\n",
       "        3.18668187e-01, 3.67854625e-01, 3.67874742e-01],\n",
       "       [1.14128344e-01, 1.35249481e-01, 2.12469339e-01, ...,\n",
       "        2.60612816e-01, 1.81799516e-01, 1.84864879e-01],\n",
       "       ...,\n",
       "       [5.26635093e-04, 2.78374704e-04, 2.07977173e-05, ...,\n",
       "        1.87630533e-08, 5.13751819e-11, 6.27527058e-11],\n",
       "       [1.68287545e-04, 8.26603791e-05, 4.68199278e-06, ...,\n",
       "        2.19211227e-09, 3.62720791e-12, 4.50493852e-12],\n",
       "       [6.87837601e-05, 3.07559967e-05, 1.31130219e-06, ...,\n",
       "        0.00000000e+00, 0.00000000e+00, 1.19209290e-07]], dtype=float32)"
      ]
     },
     "execution_count": 8,
     "metadata": {},
     "output_type": "execute_result"
    }
   ],
   "source": [
    "CPTs[\"days_at_home\"] # ordering: fever, antibiotics, self_empl, dysp, cough, pain, nasal (values always from high to low)\n",
    "                     # rows: 0 days, 1 days, 2 days, ..., 14 days, >= 15 days"
   ]
  },
  {
   "cell_type": "code",
   "execution_count": 9,
   "metadata": {},
   "outputs": [
    {
     "data": {
      "text/plain": [
       "(16, 192)"
      ]
     },
     "execution_count": 9,
     "metadata": {},
     "output_type": "execute_result"
    }
   ],
   "source": [
    "CPTs[\"days_at_home\"].shape"
   ]
  },
  {
   "cell_type": "markdown",
   "metadata": {},
   "source": [
    "### Conditional probability tables\n",
    "\n",
    "We just use the built-in functionality of the pgmpy library to learn the conditional probability tables directly. "
   ]
  },
  {
   "cell_type": "code",
   "execution_count": 10,
   "metadata": {},
   "outputs": [
    {
     "name": "stderr",
     "output_type": "stream",
     "text": [
      "c:\\Users\\Paloma\\anaconda3\\envs\\bn-text\\Lib\\site-packages\\tqdm\\auto.py:21: TqdmWarning: IProgress not found. Please update jupyter and ipywidgets. See https://ipywidgets.readthedocs.io/en/stable/user_install.html\n",
      "  from .autonotebook import tqdm as notebook_tqdm\n"
     ]
    }
   ],
   "source": [
    "from pgmpy.models import BayesianNetwork\n",
    "from pgmpy.estimators import BayesianEstimator\n",
    "\n",
    "state_names = {\"policy\": [\"yes\", \"no\"], \"self_empl\": [\"yes\", \"no\"], \"asthma\": [\"yes\", \"no\"], \"smoking\": [\"yes\", \"no\"],\n",
    "               \"COPD\": [\"yes\", \"no\"], \"winter\": [\"yes\", \"no\"], \"hay_fever\": [\"yes\", \"no\"], \n",
    "               \"pneu\": [\"yes\", \"no\"], \"inf\": [\"yes\", \"no\"], \"fever\": [\"high\", \"low\", \"none\"]}\n",
    "BN_model = BayesianNetwork([(\"asthma\", \"pneu\"), (\"smoking\", \"COPD\"), (\"COPD\", \"pneu\"),\n",
    "                         (\"winter\", \"pneu\"), (\"winter\", \"inf\"), \n",
    "                         (\"pneu\", \"fever\"), (\"inf\", \"fever\")])\n",
    "BN_model.add_node(\"hay_fever\")\n",
    "BN_model.add_node(\"policy\")\n",
    "BN_model.add_node(\"self_empl\")\n",
    "\n",
    "df_subset = df_train[[\"asthma\", \"pneu\", \"smoking\", \"COPD\", \"winter\", \"inf\", \"fever\", \"hay_fever\", \"policy\", \"self_empl\"]]\n",
    "\n",
    "BN_model.fit(df_subset, estimator=BayesianEstimator, prior_type=\"K2\", state_names=state_names)"
   ]
  },
  {
   "cell_type": "markdown",
   "metadata": {},
   "source": [
    "We now add in the other CPTs we learned, to fully specify the Bayesian network. "
   ]
  },
  {
   "cell_type": "code",
   "execution_count": 11,
   "metadata": {},
   "outputs": [],
   "source": [
    "BN_model.add_edges_from([(\"asthma\", \"dysp\"), (\"smoking\", \"dysp\"), (\"COPD\", \"dysp\"), (\"pneu\", \"dysp\"), (\"hay_fever\", \"dysp\"),\n",
    "                      (\"asthma\", \"cough\"), (\"smoking\", \"cough\"), (\"COPD\", \"cough\"), (\"pneu\", \"cough\"), (\"inf\", \"cough\"),\n",
    "                      (\"cough\", \"pain\"), (\"pneu\", \"pain\"), (\"COPD\", \"pain\"), (\"inf\", \"pain\"), \n",
    "                      (\"inf\", \"nasal\"), (\"hay_fever\", \"nasal\")])"
   ]
  },
  {
   "cell_type": "code",
   "execution_count": 12,
   "metadata": {},
   "outputs": [],
   "source": [
    "from pgmpy.factors.discrete import TabularCPD\n",
    "\n",
    "cpd_dysp = TabularCPD(variable=\"dysp\", variable_card=2, values = CPTs[\"dysp\"],\n",
    "                    evidence=[\"asthma\", \"smoking\", \"COPD\", \"hay_fever\", \"pneu\"], evidence_card=[2, 2, 2, 2, 2],\n",
    "                    state_names={\"dysp\":[\"yes\", \"no\"], \"asthma\":[\"yes\", \"no\"], \"smoking\":[\"yes\", \"no\"], \"COPD\":[\"yes\", \"no\"], \"pneu\":[\"yes\", \"no\"], \"hay_fever\":[\"yes\", \"no\"]})\n",
    "\n",
    "cpd_cough = TabularCPD(variable=\"cough\", variable_card=2, values = CPTs[\"cough\"],\n",
    "                    evidence=[\"asthma\", \"smoking\", \"COPD\", \"pneu\", \"inf\"], evidence_card=[2, 2, 2, 2, 2],\n",
    "                    state_names={\"cough\":[\"yes\", \"no\"], \"asthma\":[\"yes\", \"no\"], \"smoking\":[\"yes\", \"no\"], \"COPD\":[\"yes\", \"no\"], \"pneu\":[\"yes\", \"no\"], \"inf\":[\"yes\", \"no\"]})\n",
    "\n",
    "cpd_pain = TabularCPD(variable=\"pain\", variable_card=2, values = CPTs[\"pain\"],\n",
    "                    evidence=[\"COPD\", \"cough\", \"pneu\", \"inf\"], evidence_card=[2, 2, 2, 2],\n",
    "                    state_names={\"pain\":[\"yes\", \"no\"], \"COPD\":[\"yes\", \"no\"], \"cough\":[\"yes\", \"no\"], \"pneu\":[\"yes\", \"no\"], \"inf\":[\"yes\", \"no\"]})\n",
    "\n",
    "cpd_nasal = TabularCPD(variable=\"nasal\", variable_card=2, values = CPTs[\"nasal\"],\n",
    "                    evidence=[\"hay_fever\", \"inf\"], evidence_card=[2, 2],\n",
    "                    state_names={\"nasal\":[\"yes\", \"no\"], \"hay_fever\":[\"yes\", \"no\"], \"inf\":[\"yes\", \"no\"]})"
   ]
  },
  {
   "cell_type": "code",
   "execution_count": 13,
   "metadata": {},
   "outputs": [],
   "source": [
    "BN_model.add_cpds(cpd_dysp, cpd_cough, cpd_pain, cpd_nasal)"
   ]
  },
  {
   "cell_type": "code",
   "execution_count": 14,
   "metadata": {},
   "outputs": [],
   "source": [
    "BN_model.add_edges_from([(\"policy\", \"antibiotics\"), (\"dysp\", \"antibiotics\"), (\"cough\", \"antibiotics\"), (\"pain\", \"antibiotics\"), (\"fever\", \"antibiotics\"),\n",
    "                      (\"antibiotics\", \"days_at_home\"), (\"dysp\", \"days_at_home\"), (\"cough\", \"days_at_home\"), (\"pain\", \"days_at_home\"), (\"fever\", \"days_at_home\"), (\"nasal\", \"days_at_home\"), (\"self_empl\", \"days_at_home\")])"
   ]
  },
  {
   "cell_type": "code",
   "execution_count": 15,
   "metadata": {},
   "outputs": [],
   "source": [
    "cpd_antibiotics = TabularCPD(variable=\"antibiotics\", variable_card=2, values = CPTs[\"antibiotics\"],\n",
    "                    evidence=[\"fever\", \"policy\", \"dysp\", \"cough\", \"pain\"], evidence_card=[3, 2, 2, 2, 2],\n",
    "                    state_names={\"antibiotics\": [\"yes\", \"no\"], \"fever\":[\"high\", \"low\", \"none\"], \"policy\":[\"yes\", \"no\"], \"dysp\":[\"yes\", \"no\"], \"cough\":[\"yes\", \"no\"], \"pain\":[\"yes\", \"no\"]})\n",
    "\n",
    "cpd_days_at_home = TabularCPD(variable=\"days_at_home\", variable_card=16, values = CPTs[\"days_at_home\"],\n",
    "                    evidence=[\"fever\", \"antibiotics\", \"self_empl\", \"dysp\", \"cough\", \"pain\", \"nasal\"], evidence_card=[3, 2, 2, 2, 2, 2, 2],\n",
    "                    state_names={\"days_at_home\": list([str(e) for e in range(15)])+[\">=15\"], \"fever\":[\"high\", \"low\", \"none\"], \"antibiotics\":[\"yes\", \"no\"], \"self_empl\":[\"yes\", \"no\"], \"dysp\":[\"yes\", \"no\"], \"cough\":[\"yes\", \"no\"], \"pain\":[\"yes\", \"no\"], \"nasal\":[\"yes\", \"no\"]})"
   ]
  },
  {
   "cell_type": "code",
   "execution_count": 23,
   "metadata": {},
   "outputs": [],
   "source": [
    "BN_model.add_cpds(cpd_antibiotics, cpd_days_at_home)"
   ]
  },
  {
   "cell_type": "code",
   "execution_count": 24,
   "metadata": {},
   "outputs": [
    {
     "data": {
      "text/plain": [
       "NodeView(('asthma', 'pneu', 'smoking', 'COPD', 'winter', 'inf', 'fever', 'hay_fever', 'policy', 'self_empl', 'dysp', 'cough', 'pain', 'nasal', 'antibiotics', 'days_at_home'))"
      ]
     },
     "execution_count": 24,
     "metadata": {},
     "output_type": "execute_result"
    }
   ],
   "source": [
    "BN_model.nodes"
   ]
  },
  {
   "cell_type": "markdown",
   "metadata": {},
   "source": [
    "Now that the Bayesian network is fully specified, we can evaluate it. For each of the five symptoms, we predict the value using exact Bayesian inference, given a set of evidence nodes. We have three settings of evidence: \n",
    "- all: use all other variables as evidence\n",
    "- no symptoms: use all other variables as evidence, except for other symptoms\n",
    "- realistic: use all other variables as evidence, except for symptoms, policy, self-employed and days at home (since these would realistically not be encoded in a real patient record)"
   ]
  },
  {
   "cell_type": "code",
   "execution_count": 17,
   "metadata": {},
   "outputs": [],
   "source": [
    "def predict_symptom(row, symptom, inf_obj, setting): \n",
    "    \"\"\"\n",
    "    Use the bayesian network to predict the probability of a symptom, given the values of the other variables in the evidence set\n",
    "    row: row in the training or test dataframe, containing all values of tabular variables for this patient\n",
    "    symptom: name of the symptom to predict\n",
    "    inf_obj: inference object from pgmpy library (used to perform variable elimination)\n",
    "    setting: evidence setting (all, no_sympt, realistic)\n",
    "    \"\"\"\n",
    "\n",
    "    nodes = [\"asthma\", \"smoking\", \"COPD\", \"pneu\", \"winter\", \"inf\", \"hay_fever\", \"dysp\", \"cough\", \"pain\", \"fever\", \"nasal\", \n",
    "             \"policy\", \"antibiotics\", \"days_at_home\", \"self_empl\"]\n",
    "    symptoms = [\"dysp\", \"cough\", \"pain\", \"fever\", \"nasal\"]\n",
    "\n",
    "    if setting == \"all\": # all other tabular variables as evidence\n",
    "        ev = {}\n",
    "        for key in nodes: \n",
    "            if key != symptom: \n",
    "                ev[key] = row[key]\n",
    "\n",
    "    elif setting == \"no_sympt\":\n",
    "        ev = {}\n",
    "        for key in nodes: \n",
    "            if key not in symptoms: \n",
    "                ev[key] = row[key]\n",
    "\n",
    "    elif setting == \"realistic\": \n",
    "        ev = {}\n",
    "        forbidden_keys = [\"policy\", \"days_at_home\", \"self_empl\"] + symptoms\n",
    "        for key in nodes: \n",
    "            if key not in forbidden_keys: \n",
    "                ev[key] = row[key]\n",
    "\n",
    "    else: \n",
    "        print(\"invalid setting\")\n",
    "\n",
    "    if symptom != \"fever\": # predict the probability P(symptom = yes | evidence)\n",
    "\n",
    "        res = inf_obj.query([symptom], evidence=ev)\n",
    "        prob = res.get_value(**{symptom:\"yes\"})\n",
    "\n",
    "    elif symptom == \"fever\": # predict the probability P(fever = high | evidence), P(fever = low | evidence), P(fever = none | evidence)\n",
    "        prob = []\n",
    "        res = inf_obj.query([symptom], evidence=ev)\n",
    "        for val in [\"high\", \"low\", \"none\"]: \n",
    "            prob.append(res.get_value(**{symptom:val}))\n",
    "        return tuple(prob)\n",
    "\n",
    "    return prob"
   ]
  },
  {
   "cell_type": "code",
   "execution_count": 18,
   "metadata": {},
   "outputs": [],
   "source": [
    "import numpy as np\n",
    "def label_fever(row): \n",
    "    \"\"\"\n",
    "    helper function which selects the most likely class for fever (high, low or none) from the predicted probabilities for each of these classes\n",
    "    \"\"\"\n",
    "    max_idx = np.argmax((row[\"fever_prob_high\"], row[\"fever_prob_low\"], row[\"fever_prob_none\"]))\n",
    "    if max_idx == 0: \n",
    "        label = \"high\"\n",
    "    elif max_idx == 1: \n",
    "        label = \"low\"\n",
    "    else: \n",
    "        label = \"none\"\n",
    "    return label"
   ]
  },
  {
   "cell_type": "code",
   "execution_count": 19,
   "metadata": {},
   "outputs": [],
   "source": [
    "from sklearn.metrics import precision_score, recall_score, f1_score, accuracy_score\n",
    "import pandas as pd\n",
    "from pgmpy.inference.ExactInference import VariableElimination\n",
    "\n",
    "def evaluate_BN(df, BN_model, setting): \n",
    "    \"\"\" \n",
    "    Evaluate the Bayesian network\n",
    "    df: training or test dataframe\n",
    "    BN_model: Bayesian network model, with conditional probability tables learned from the training data\n",
    "    setting: evidence setting (all, no_sympt or realistic)\n",
    "    \"\"\"\n",
    "    \n",
    "    inf_obj = VariableElimination(BN_model) # inference object -> exact inference over learned BN_model using pgmpy library\n",
    "\n",
    "    for sympt in [\"dysp\", \"cough\", \"pain\", \"nasal\"]:\n",
    "        df[f\"{sympt}_prob\"] = df.apply(predict_symptom, axis=1, args=(sympt, inf_obj, setting)) # get predicted probability for each symptom\n",
    "        df[f\"{sympt}_pred\"] = df[f\"{sympt}_prob\"].apply(lambda x: \"yes\" if x > 0.5 else \"no\") # get predicted label for each symptom (yes/no), threshold 0.5\n",
    "\n",
    "    # do the same for symptom fever (which has three possible classes)\n",
    "    df[[\"fever_prob_high\", \"fever_prob_low\", \"fever_prob_none\"]] = df.apply(predict_symptom, axis=1, args=(\"fever\", inf_obj, setting), result_type=\"expand\")\n",
    "    df[\"fever_pred\"] = df.apply(label_fever, axis=1) # use helper function to get label of fever using argmax\n",
    "\n",
    "    scores = pd.DataFrame(columns = [\"precision\", \"recall\", \"f1\", \"accuracy\"])\n",
    "\n",
    "    # calculate precision, recall, F1, accuracy, from the predicted labels, comparing them with the ground-truth labels\n",
    "    for sympt in [\"dysp\", \"cough\", \"pain\", \"nasal\"]: \n",
    "        prec = precision_score(df[sympt], df[f\"{sympt}_pred\"], pos_label=\"yes\") \n",
    "        recall = recall_score(df[sympt], df[f\"{sympt}_pred\"], pos_label=\"yes\")\n",
    "        f1 = f1_score(df[sympt], df[f\"{sympt}_pred\"], pos_label=\"yes\")\n",
    "        acc = accuracy_score(df[sympt], df[f\"{sympt}_pred\"])\n",
    "        scores.loc[sympt] = [prec, recall, f1, acc]\n",
    "\n",
    "    # get macro metrics for fever \n",
    "    macro_precision = precision_score(df[\"fever\"], df[\"fever_pred\"], average='macro', labels=[\"none\", \"low\", \"high\"])\n",
    "    macro_recall = recall_score(df[\"fever\"], df[\"fever_pred\"], average='macro', labels=[\"none\", \"low\", \"high\"])\n",
    "    macro_f1 = f1_score(df[\"fever\"], df[\"fever_pred\"], average='macro', labels=[\"none\", \"low\", \"high\"])\n",
    "    macro_acc = accuracy_score(df[\"fever\"], df[\"fever_pred\"])\n",
    "    scores.loc[\"fever\"] = [macro_precision, macro_recall, macro_f1, macro_acc]\n",
    "\n",
    "    return scores"
   ]
  },
  {
   "cell_type": "markdown",
   "metadata": {},
   "source": [
    "We now evaluate the Bayesian network over the test dataframe. \n",
    "\n",
    "To be able to calculate the predictions for each patient in our dataset, we transform the values for the days_at_home variable into its corresponding categories known by the Bayesian network. "
   ]
  },
  {
   "cell_type": "code",
   "execution_count": 26,
   "metadata": {},
   "outputs": [],
   "source": [
    "def days_at_home_categories(val): \n",
    "    if val >= 15:\n",
    "        return \">=15\"\n",
    "    else: \n",
    "        return str(val)\n",
    "    \n",
    "df_test[\"days_at_home_cat\"] = df_test[\"days_at_home\"].apply(days_at_home_categories)\n",
    "df_test[\"days_at_home\"] = df_test[\"days_at_home_cat\"]\n",
    "df_test = df_test.drop(\"days_at_home_cat\", axis=1)"
   ]
  },
  {
   "cell_type": "code",
   "execution_count": null,
   "metadata": {},
   "outputs": [],
   "source": [
    "import pickle\n",
    "with open(\"../data/df_test.p\", \"rb\") as file: \n",
    "    df_test = pickle.load(file)"
   ]
  },
  {
   "cell_type": "code",
   "execution_count": 27,
   "metadata": {},
   "outputs": [
    {
     "name": "stdout",
     "output_type": "stream",
     "text": [
      "       precision    recall        f1  accuracy\n",
      "dysp    0.839744  0.656642  0.736990    0.9065\n",
      "cough   0.742282  0.825373  0.781625    0.8455\n",
      "pain    0.600000  0.148936  0.238636    0.8660\n",
      "nasal   0.741597  0.689453  0.714575    0.8590\n",
      "fever   0.737091  0.446921  0.486430    0.8045\n"
     ]
    }
   ],
   "source": [
    "scores = evaluate_BN(df_test, BN_model, setting=\"all\")\n",
    "print(scores)"
   ]
  },
  {
   "cell_type": "code",
   "execution_count": 28,
   "metadata": {},
   "outputs": [
    {
     "name": "stdout",
     "output_type": "stream",
     "text": [
      "       precision    recall        f1  accuracy\n",
      "dysp    0.833333  0.626566  0.715308    0.9005\n",
      "cough   0.731579  0.829851  0.777622    0.8410\n",
      "pain    0.552632  0.074468  0.131250    0.8610\n",
      "nasal   0.741597  0.689453  0.714575    0.8590\n",
      "fever   0.744494  0.413652  0.438413    0.7965\n"
     ]
    }
   ],
   "source": [
    "scores = evaluate_BN(df_test, BN_model, setting=\"no_sympt\")\n",
    "print(scores)"
   ]
  },
  {
   "cell_type": "code",
   "execution_count": 29,
   "metadata": {},
   "outputs": [
    {
     "name": "stdout",
     "output_type": "stream",
     "text": [
      "       precision    recall        f1  accuracy\n",
      "dysp    0.891667  0.536341  0.669797    0.8945\n",
      "cough   0.728105  0.831343  0.776307    0.8395\n",
      "pain    1.000000  0.014184  0.027972    0.8610\n",
      "nasal   0.741597  0.689453  0.714575    0.8590\n",
      "fever   0.532090  0.370917  0.359428    0.7840\n"
     ]
    },
    {
     "name": "stderr",
     "output_type": "stream",
     "text": [
      "c:\\Users\\Paloma\\anaconda3\\envs\\bn-text\\Lib\\site-packages\\sklearn\\metrics\\_classification.py:1344: UndefinedMetricWarning: Precision is ill-defined and being set to 0.0 in labels with no predicted samples. Use `zero_division` parameter to control this behavior.\n",
      "  _warn_prf(average, modifier, msg_start, len(result))\n"
     ]
    }
   ],
   "source": [
    "scores = evaluate_BN(df_test, BN_model, setting=\"realistic\")\n",
    "print(scores)"
   ]
  },
  {
   "cell_type": "markdown",
   "metadata": {},
   "source": [
    "## XGBoost-tab\n",
    "\n",
    "We build an XGBoost classifier for each symptom and each setting (all, no_sympt, realistic). For each combination, we tune the hyperparameters using grid search, cross-validating over the training set with 5 folds. \n",
    "\n",
    "The function below, train_eval_XGBoost, performs both hyperparameter search, as well as training best model over the full train set. It also computes the test scores over the test set. "
   ]
  },
  {
   "cell_type": "code",
   "execution_count": null,
   "metadata": {},
   "outputs": [],
   "source": [
    "import pickle\n",
    "import pandas as pd\n",
    "from sklearn.compose import ColumnTransformer\n",
    "from sklearn.preprocessing import OneHotEncoder, LabelEncoder\n",
    "from sklearn.pipeline import Pipeline\n",
    "from xgboost import XGBClassifier\n",
    "from sklearn.metrics import f1_score, make_scorer, precision_score, recall_score, accuracy_score\n",
    "from sklearn.model_selection import GridSearchCV\n",
    "from sklearn.utils.class_weight import compute_sample_weight\n",
    "\n",
    "def train_eval_XGBoost(sympt, setting):\n",
    "\n",
    "    seed = 2024\n",
    "    scores = pd.DataFrame(columns = [\"precision\", \"recall\", \"f1\", \"accuracy\"])\n",
    "\n",
    "    # import train and test set\n",
    "    with open(\"../data/df_train.p\", \"rb\") as file: \n",
    "        df_train = pickle.load(file)\n",
    "    with open(\"../data/df_test.p\", \"rb\") as file: \n",
    "        df_test = pickle.load(file)\n",
    "\n",
    "    # select features according to setting\n",
    "    features_realistic = [\"asthma\", \"smoking\", \"COPD\", \"winter\", \"hay_fever\", \"pneu\", \"inf\", \"antibiotics\"]\n",
    "    symptoms = [\"dysp\", \"cough\", \"pain\", \"fever\", \"nasal\"]\n",
    "    if setting == \"all\": \n",
    "        features = [\"policy\", \"self_empl\", \"days_at_home\"]+features_realistic+[s for s in symptoms if s != sympt]\n",
    "    elif setting == \"no_sympt\": \n",
    "        features = [\"policy\", \"self_empl\", \"days_at_home\"]+features_realistic\n",
    "    elif setting == \"realistic\": \n",
    "        features = features_realistic\n",
    "    else: \n",
    "        print(\"invalid setting\")\n",
    "    print(features)\n",
    "    X_train = df_train[features]\n",
    "    y_train = df_train[sympt]\n",
    "    X_test = df_test[features]\n",
    "    y_test = df_test[sympt]\n",
    "\n",
    "    # preprocessing\n",
    "    label_encoder = LabelEncoder()\n",
    "    y_train = label_encoder.fit_transform(y_train)\n",
    "    y_test = label_encoder.transform(y_test)\n",
    "    preprocessor = ColumnTransformer(\n",
    "        transformers=[\n",
    "            ('cat', OneHotEncoder(drop='if_binary', handle_unknown='ignore'), [f for f in features if f != \"days_at_home\"])\n",
    "        ])\n",
    "\n",
    "    # model pipeline\n",
    "    if sympt == \"fever\": \n",
    "        xgb = XGBClassifier(objective=\"multi:softmax\", num_class=3, eval_metric='mlogloss', random_state=seed) \n",
    "    else: \n",
    "        xgb = XGBClassifier(eval_metric='logloss', random_state=seed) \n",
    "    pipeline = Pipeline(steps=[(\"preprocessor\", preprocessor), (\"classifier\", xgb)])\n",
    "\n",
    "    # hyperparameter search\n",
    "    param_grid = {\n",
    "        'classifier__n_estimators': [50, 100, 200],\n",
    "        'classifier__max_depth': [2, 3, 4, 5],\n",
    "        'classifier__learning_rate': [0.01, 0.1, 0.2],\n",
    "        'classifier__subsample': [0.8, 1],\n",
    "        'classifier__colsample_bytree': [0.8, 1],\n",
    "        'classifier__gamma': [0, 0.1, 0.3],\n",
    "        'classifier__min_child_weight': [1, 5, 10]\n",
    "    }\n",
    "    if sympt != \"fever\": \n",
    "        ratio = sum(y_train==0)/sum(y_train==1)\n",
    "        param_grid[\"classifier__scale_pos_weight\"] = [ratio] # weight should be # negative samples / # positive samples\n",
    "        f1_scorer = make_scorer(f1_score)\n",
    "        grid_search = GridSearchCV(pipeline, param_grid, cv=5, scoring=f1_scorer, verbose=1, n_jobs=-1)\n",
    "        grid_search.fit(X_train, y_train)\n",
    "    else: \n",
    "        sample_weights = compute_sample_weight(class_weight='balanced', y=y_train) # use sample weights to address unbalanced classes\n",
    "        f1_scorer = make_scorer(f1_score, average=\"macro\") # use macro for multiclass\n",
    "        # random_search = RandomizedSearchCV(pipeline, param_grid, n_iter=n_comb, cv=5, scoring=f1_scorer, verbose=1, n_jobs=-1, random_state=seed)\n",
    "        grid_search = GridSearchCV(pipeline, param_grid, cv=5, scoring=f1_scorer, verbose=1, n_jobs=-1)\n",
    "        grid_search.fit(X_train, y_train, classifier__sample_weight=sample_weights) \n",
    "\n",
    "    # best parameters and model\n",
    "    best_model = grid_search.best_estimator_\n",
    "    best_params = grid_search.best_params_\n",
    "    print(\"Best parameters found: \", best_params)\n",
    "\n",
    "    # train scores (no need to fit on full train set, grid_search handles this automatically internally, so best_model is already retrained)\n",
    "    if sympt == \"fever\": \n",
    "        avg_method = \"macro\"\n",
    "    else:\n",
    "        avg_method = \"binary\"\n",
    "    y_train_pred = best_model.predict(X_train)\n",
    "    print(y_train_pred[:20])\n",
    "    print(y_train[:20])\n",
    "    precision = precision_score(y_train, y_train_pred, average=avg_method)\n",
    "    recall = recall_score(y_train, y_train_pred, average=avg_method)\n",
    "    acc = accuracy_score(y_train, y_train_pred)\n",
    "    f1 = f1_score(y_train, y_train_pred, average=avg_method)\n",
    "    scores.loc[\"train\"] = [precision, recall, f1, acc]\n",
    "\n",
    "    # test scores\n",
    "    if sympt == \"fever\": \n",
    "        avg_method = \"macro\"\n",
    "    else:\n",
    "        avg_method = \"binary\"\n",
    "    y_test_pred = best_model.predict(X_test)\n",
    "    precision = precision_score(y_test, y_test_pred, average=avg_method)\n",
    "    recall = recall_score(y_test, y_test_pred, average=avg_method)\n",
    "    acc = accuracy_score(y_test, y_test_pred)\n",
    "    f1 = f1_score(y_test, y_test_pred, average=avg_method)\n",
    "    scores.loc[\"test\"] = [precision, recall, f1, acc]\n",
    "\n",
    "    return scores, best_model"
   ]
  },
  {
   "cell_type": "markdown",
   "metadata": {},
   "source": [
    "We generate the results by running the hyperparameter search and model training for all the symptoms and settings, as shown below. The final results are not printed directly in the notebook, since we ran this in parallel on our HPC architecture. "
   ]
  },
  {
   "cell_type": "code",
   "execution_count": null,
   "metadata": {},
   "outputs": [],
   "source": [
    "n_comb = 1\n",
    "full_scores_train = {}\n",
    "full_scores_test = {}\n",
    "for setting in [\"all\", \"no_sympt\", \"realistic\"]:\n",
    "    scores_train = pd.DataFrame(columns = [\"precision\", \"recall\", \"f1\", \"accuracy\"])\n",
    "    scores_test = pd.DataFrame(columns = [\"precision\", \"recall\", \"f1\", \"accuracy\"])\n",
    "    for sympt in [\"dysp\", \"cough\", \"pain\", \"fever\", \"nasal\"]:\n",
    "        res = train_eval_XGBoost(sympt, setting, n_comb)\n",
    "        scores_train.loc[sympt] = res.loc[\"train\"]\n",
    "        scores_test.loc[sympt] = res.loc[\"test\"]\n",
    "    full_scores_train[setting] = scores_train\n",
    "    full_scores_test[setting] = scores_test"
   ]
  },
  {
   "cell_type": "markdown",
   "metadata": {},
   "source": [
    "The final results for each symptom and each setting over the test set can be found in \"results/XGBoost_test.p\"."
   ]
  },
  {
   "cell_type": "code",
   "execution_count": 31,
   "metadata": {},
   "outputs": [],
   "source": [
    "with open(\"results/XGBoost_test.p\", \"rb\") as file: \n",
    "    results = pickle.load(file)"
   ]
  },
  {
   "cell_type": "code",
   "execution_count": 33,
   "metadata": {},
   "outputs": [
    {
     "data": {
      "text/html": [
       "<div>\n",
       "<style scoped>\n",
       "    .dataframe tbody tr th:only-of-type {\n",
       "        vertical-align: middle;\n",
       "    }\n",
       "\n",
       "    .dataframe tbody tr th {\n",
       "        vertical-align: top;\n",
       "    }\n",
       "\n",
       "    .dataframe thead th {\n",
       "        text-align: right;\n",
       "    }\n",
       "</style>\n",
       "<table border=\"1\" class=\"dataframe\">\n",
       "  <thead>\n",
       "    <tr style=\"text-align: right;\">\n",
       "      <th></th>\n",
       "      <th>precision</th>\n",
       "      <th>recall</th>\n",
       "      <th>f1</th>\n",
       "      <th>accuracy</th>\n",
       "    </tr>\n",
       "  </thead>\n",
       "  <tbody>\n",
       "    <tr>\n",
       "      <th>dysp</th>\n",
       "      <td>0.570144</td>\n",
       "      <td>0.794486</td>\n",
       "      <td>0.663874</td>\n",
       "      <td>0.8395</td>\n",
       "    </tr>\n",
       "    <tr>\n",
       "      <th>cough</th>\n",
       "      <td>0.710654</td>\n",
       "      <td>0.876119</td>\n",
       "      <td>0.784759</td>\n",
       "      <td>0.8390</td>\n",
       "    </tr>\n",
       "    <tr>\n",
       "      <th>pain</th>\n",
       "      <td>0.286541</td>\n",
       "      <td>0.702128</td>\n",
       "      <td>0.406989</td>\n",
       "      <td>0.7115</td>\n",
       "    </tr>\n",
       "    <tr>\n",
       "      <th>fever</th>\n",
       "      <td>0.402936</td>\n",
       "      <td>0.487631</td>\n",
       "      <td>0.411059</td>\n",
       "      <td>0.6435</td>\n",
       "    </tr>\n",
       "    <tr>\n",
       "      <th>nasal</th>\n",
       "      <td>0.735967</td>\n",
       "      <td>0.691406</td>\n",
       "      <td>0.712991</td>\n",
       "      <td>0.8575</td>\n",
       "    </tr>\n",
       "  </tbody>\n",
       "</table>\n",
       "</div>"
      ],
      "text/plain": [
       "       precision    recall        f1  accuracy\n",
       "dysp    0.570144  0.794486  0.663874    0.8395\n",
       "cough   0.710654  0.876119  0.784759    0.8390\n",
       "pain    0.286541  0.702128  0.406989    0.7115\n",
       "fever   0.402936  0.487631  0.411059    0.6435\n",
       "nasal   0.735967  0.691406  0.712991    0.8575"
      ]
     },
     "execution_count": 33,
     "metadata": {},
     "output_type": "execute_result"
    }
   ],
   "source": [
    "results[\"all\"]"
   ]
  },
  {
   "cell_type": "code",
   "execution_count": 35,
   "metadata": {},
   "outputs": [
    {
     "data": {
      "text/html": [
       "<div>\n",
       "<style scoped>\n",
       "    .dataframe tbody tr th:only-of-type {\n",
       "        vertical-align: middle;\n",
       "    }\n",
       "\n",
       "    .dataframe tbody tr th {\n",
       "        vertical-align: top;\n",
       "    }\n",
       "\n",
       "    .dataframe thead th {\n",
       "        text-align: right;\n",
       "    }\n",
       "</style>\n",
       "<table border=\"1\" class=\"dataframe\">\n",
       "  <thead>\n",
       "    <tr style=\"text-align: right;\">\n",
       "      <th></th>\n",
       "      <th>precision</th>\n",
       "      <th>recall</th>\n",
       "      <th>f1</th>\n",
       "      <th>accuracy</th>\n",
       "    </tr>\n",
       "  </thead>\n",
       "  <tbody>\n",
       "    <tr>\n",
       "      <th>dysp</th>\n",
       "      <td>0.562390</td>\n",
       "      <td>0.802005</td>\n",
       "      <td>0.661157</td>\n",
       "      <td>0.8360</td>\n",
       "    </tr>\n",
       "    <tr>\n",
       "      <th>cough</th>\n",
       "      <td>0.703257</td>\n",
       "      <td>0.870149</td>\n",
       "      <td>0.777852</td>\n",
       "      <td>0.8335</td>\n",
       "    </tr>\n",
       "    <tr>\n",
       "      <th>pain</th>\n",
       "      <td>0.256151</td>\n",
       "      <td>0.627660</td>\n",
       "      <td>0.363823</td>\n",
       "      <td>0.6905</td>\n",
       "    </tr>\n",
       "    <tr>\n",
       "      <th>fever</th>\n",
       "      <td>0.392231</td>\n",
       "      <td>0.478116</td>\n",
       "      <td>0.401533</td>\n",
       "      <td>0.6500</td>\n",
       "    </tr>\n",
       "    <tr>\n",
       "      <th>nasal</th>\n",
       "      <td>0.741597</td>\n",
       "      <td>0.689453</td>\n",
       "      <td>0.714575</td>\n",
       "      <td>0.8590</td>\n",
       "    </tr>\n",
       "  </tbody>\n",
       "</table>\n",
       "</div>"
      ],
      "text/plain": [
       "       precision    recall        f1  accuracy\n",
       "dysp    0.562390  0.802005  0.661157    0.8360\n",
       "cough   0.703257  0.870149  0.777852    0.8335\n",
       "pain    0.256151  0.627660  0.363823    0.6905\n",
       "fever   0.392231  0.478116  0.401533    0.6500\n",
       "nasal   0.741597  0.689453  0.714575    0.8590"
      ]
     },
     "execution_count": 35,
     "metadata": {},
     "output_type": "execute_result"
    }
   ],
   "source": [
    "results[\"no_sympt\"]"
   ]
  },
  {
   "cell_type": "code",
   "execution_count": 36,
   "metadata": {},
   "outputs": [
    {
     "data": {
      "text/html": [
       "<div>\n",
       "<style scoped>\n",
       "    .dataframe tbody tr th:only-of-type {\n",
       "        vertical-align: middle;\n",
       "    }\n",
       "\n",
       "    .dataframe tbody tr th {\n",
       "        vertical-align: top;\n",
       "    }\n",
       "\n",
       "    .dataframe thead th {\n",
       "        text-align: right;\n",
       "    }\n",
       "</style>\n",
       "<table border=\"1\" class=\"dataframe\">\n",
       "  <thead>\n",
       "    <tr style=\"text-align: right;\">\n",
       "      <th></th>\n",
       "      <th>precision</th>\n",
       "      <th>recall</th>\n",
       "      <th>f1</th>\n",
       "      <th>accuracy</th>\n",
       "    </tr>\n",
       "  </thead>\n",
       "  <tbody>\n",
       "    <tr>\n",
       "      <th>dysp</th>\n",
       "      <td>0.561955</td>\n",
       "      <td>0.807018</td>\n",
       "      <td>0.662551</td>\n",
       "      <td>0.8360</td>\n",
       "    </tr>\n",
       "    <tr>\n",
       "      <th>cough</th>\n",
       "      <td>0.703481</td>\n",
       "      <td>0.874627</td>\n",
       "      <td>0.779774</td>\n",
       "      <td>0.8345</td>\n",
       "    </tr>\n",
       "    <tr>\n",
       "      <th>pain</th>\n",
       "      <td>0.264036</td>\n",
       "      <td>0.617021</td>\n",
       "      <td>0.369819</td>\n",
       "      <td>0.7035</td>\n",
       "    </tr>\n",
       "    <tr>\n",
       "      <th>fever</th>\n",
       "      <td>0.381248</td>\n",
       "      <td>0.481450</td>\n",
       "      <td>0.395078</td>\n",
       "      <td>0.6530</td>\n",
       "    </tr>\n",
       "    <tr>\n",
       "      <th>nasal</th>\n",
       "      <td>0.741597</td>\n",
       "      <td>0.689453</td>\n",
       "      <td>0.714575</td>\n",
       "      <td>0.8590</td>\n",
       "    </tr>\n",
       "  </tbody>\n",
       "</table>\n",
       "</div>"
      ],
      "text/plain": [
       "       precision    recall        f1  accuracy\n",
       "dysp    0.561955  0.807018  0.662551    0.8360\n",
       "cough   0.703481  0.874627  0.779774    0.8345\n",
       "pain    0.264036  0.617021  0.369819    0.7035\n",
       "fever   0.381248  0.481450  0.395078    0.6530\n",
       "nasal   0.741597  0.689453  0.714575    0.8590"
      ]
     },
     "execution_count": 36,
     "metadata": {},
     "output_type": "execute_result"
    }
   ],
   "source": [
    "results[\"realistic\"]"
   ]
  },
  {
   "cell_type": "markdown",
   "metadata": {},
   "source": [
    "## Neural-text\n",
    "\n",
    "Our neural-text baseline takes only the text as an input, and predicts whether each symptom is mentioned in the text. We first split the text into sentences, and embed each sentence using the pretrained clinical language model BioLORD. We then combine the sentences into a single embedding, which is fed into a feed-forward neural network. The embeddings are static and not updated during training. To combine sentence embeddings into a single embedding per note, we consider 4 settings:\n",
    "- hist: average all sentence embeddings in the \"history\" portion of the note\n",
    "- phys: average all sentence embeddings in the \"physical examination\" portion of the note\n",
    "- mean: to get a single representation of the full note, we take the average of the hist and phys embeddings\n",
    "- concat: idem as previous, but we now concatenate the embeddings for the two portions\n",
    "\n",
    "We train separate classifiers for each setting, starting from either the normal text or advanced text (8 models in total). "
   ]
  },
  {
   "cell_type": "markdown",
   "metadata": {},
   "source": [
    "### Split off history and physical examination\n",
    "\n",
    "We first split each note up into a history portion and a physical examination portion. As shown in the example below, we can use the **History** and **Physical examination** headers for this. "
   ]
  },
  {
   "cell_type": "code",
   "execution_count": null,
   "metadata": {},
   "outputs": [],
   "source": [
    "import pickle\n",
    "with open(\"../data/df_train.p\", \"rb\") as file: \n",
    "    df_train = pickle.load(file)\n",
    "with open(\"../data/df_test.p\", \"rb\") as file: \n",
    "    df_test = pickle.load(file)"
   ]
  },
  {
   "cell_type": "code",
   "execution_count": 7,
   "metadata": {},
   "outputs": [
    {
     "name": "stdout",
     "output_type": "stream",
     "text": [
      "**History**\n",
      "Patient presents with generalized fatigue persisting for several weeks, significantly affecting daily activities. Reports adequate sleep but still feels unusually tired upon waking. Denies recent illness, significant stress, or changes in diet and exercise routine. Hydration and nutritional intake appear balanced.\n",
      "\n",
      "**Physical Examination**\n",
      "Vital signs: blood pressure 120/78 mmHg, pulse 70 bpm, temperature 98.6°F. Respiratory system clear upon auscultation, with no adventitious sounds. Cardiovascular exam with regular rhythm and no murmurs. Abdominal exam shows normal bowel sounds, no tenderness or organomegaly. Skin appears well-hydrated without signs of pallor or cyanosis.\n"
     ]
    }
   ],
   "source": [
    "print(df_train.iloc[0][\"text\"])"
   ]
  },
  {
   "cell_type": "code",
   "execution_count": 8,
   "metadata": {},
   "outputs": [],
   "source": [
    "def split_text(row, col_name):\n",
    "    \"\"\"\n",
    "    Split the note into a \"history\" portion and a \"physical examination\" portion\n",
    "    row: row of the dataframe (patient)\n",
    "    col_name: col_name indicating the type of text (\"text\" for normal or \"advanced_text\" for compact)\n",
    "    \"\"\"\n",
    "    text = row[col_name] \n",
    "    try: \n",
    "        text = text.split(\"**History**\")[1]\n",
    "        text = text.strip()\n",
    "        text = text.split(\"**Physical Examination**\")\n",
    "        history = text[0].strip()\n",
    "        phys_exam = text[1].strip()\n",
    "\n",
    "        return history, phys_exam\n",
    "    except:\n",
    "        return \"error\", \"error\""
   ]
  },
  {
   "cell_type": "markdown",
   "metadata": {},
   "source": [
    "In a prior preprocessing phase, we ran the code below on all the texts in our dataset, to clean up inconsistent headers for the \"history\" and \"physical examination\" portions and ensure that we could correctly split the texts based on these headers. All the texts found in the dataframes in the \"data\" folder are already the cleaned versions. "
   ]
  },
  {
   "cell_type": "code",
   "execution_count": null,
   "metadata": {},
   "outputs": [],
   "source": [
    "def clean_text(row, col_name): \n",
    "    text = row[col_name] \n",
    "    text = text.replace(\"**History:**\", \"**History**\")\n",
    "    text = text.replace(\"**Hx**\", \"**History**\")\n",
    "    text = text.replace(\"**Hx:**\", \"**History**\")\n",
    "    text = text.replace(\"**HPI**\", \"**History**\")\n",
    "    text = text.replace(\"### History\", \"**History**\")\n",
    "    text = text.replace(\"**Physical Examination:**\", \"**Physical Examination**\")\n",
    "    text = text.replace(\"**PE**\", \"**Physical Examination**\")\n",
    "    text = text.replace(\"**PE:**\", \"**Physical Examination**\")\n",
    "    text = text.replace(\"**Physical Exam**\", \"**Physical Examination**\")\n",
    "    text = text.replace(\"**Physical Exam:**\", \"**Physical Examination**\")\n",
    "    text = text.replace(\"### Physical Examination\", \"**Physical Examination**\")\n",
    "    return text"
   ]
  },
  {
   "cell_type": "markdown",
   "metadata": {},
   "source": [
    "We split up the notes (both normal and compact) into two parts (hist and phys_exam), for both the training set and the test set. "
   ]
  },
  {
   "cell_type": "code",
   "execution_count": 9,
   "metadata": {},
   "outputs": [],
   "source": [
    "df_train[[\"text_hist\", \"text_phys_exam\"]] = df_train.apply(split_text, axis=1, args=(\"text\",), result_type=\"expand\")\n",
    "df_test[[\"text_hist\", \"text_phys_exam\"]] = df_test.apply(split_text, axis=1, args=(\"text\",), result_type=\"expand\")\n",
    "df_train[[\"advanced_text_hist\", \"advanced_text_phys_exam\"]] = df_train.apply(split_text, axis=1, args=(\"advanced_text\",), result_type=\"expand\")\n",
    "df_test[[\"advanced_text_hist\", \"advanced_text_phys_exam\"]] = df_test.apply(split_text, axis=1, args=(\"advanced_text\",), result_type=\"expand\")"
   ]
  },
  {
   "cell_type": "markdown",
   "metadata": {},
   "source": [
    "### BioLORD embeddings\n",
    "\n",
    "We now generate the hist and phys embeddings, storing them in the train and test dataframes. We use the BioLORD model, a pre-trained clinical sentence embedding model. We use mean-pooling to create one embedding over all the sentences in one section of the note."
   ]
  },
  {
   "cell_type": "code",
   "execution_count": 10,
   "metadata": {},
   "outputs": [],
   "source": [
    "from sentence_transformers import SentenceTransformer\n",
    "model = SentenceTransformer(\"FremyCompany/BioLORD-2023\") # import the BioLORD model"
   ]
  },
  {
   "cell_type": "code",
   "execution_count": 11,
   "metadata": {},
   "outputs": [],
   "source": [
    "import nltk\n",
    "def get_embeddings(row): \n",
    "\n",
    "    print(row.name)\n",
    "\n",
    "    # split into sentences\n",
    "    text_hist = row[\"text_hist\"]\n",
    "    text_phys = row[\"text_phys_exam\"]\n",
    "    sent_hist = nltk.tokenize.sent_tokenize(text_hist)\n",
    "    sent_phys = nltk.tokenize.sent_tokenize(text_phys)\n",
    "\n",
    "    # encode history and physical examination portion\n",
    "    enc_hist = model.encode(sent_hist, normalize_embeddings=True)\n",
    "    enc_phys = model.encode(sent_phys, normalize_embeddings=True)\n",
    "\n",
    "    # mean pool\n",
    "    mean_enc_hist = enc_hist.mean(axis=0)\n",
    "    mean_enc_phys = enc_phys.mean(axis=0)\n",
    "\n",
    "    return mean_enc_hist, mean_enc_phys"
   ]
  },
  {
   "cell_type": "markdown",
   "metadata": {},
   "source": [
    "By means of example, we generate the embeddings for the first 3 notes. "
   ]
  },
  {
   "cell_type": "code",
   "execution_count": 13,
   "metadata": {},
   "outputs": [
    {
     "name": "stdout",
     "output_type": "stream",
     "text": [
      "8276\n",
      "9288\n",
      "530\n"
     ]
    }
   ],
   "source": [
    "subset = df_train.iloc[:3].copy()\n",
    "subset[[\"hist_emb\", \"phys_emb\"]] = subset.apply(get_embeddings, axis=1, result_type=\"expand\")"
   ]
  },
  {
   "cell_type": "code",
   "execution_count": 14,
   "metadata": {},
   "outputs": [
    {
     "data": {
      "text/html": [
       "<div>\n",
       "<style scoped>\n",
       "    .dataframe tbody tr th:only-of-type {\n",
       "        vertical-align: middle;\n",
       "    }\n",
       "\n",
       "    .dataframe tbody tr th {\n",
       "        vertical-align: top;\n",
       "    }\n",
       "\n",
       "    .dataframe thead th {\n",
       "        text-align: right;\n",
       "    }\n",
       "</style>\n",
       "<table border=\"1\" class=\"dataframe\">\n",
       "  <thead>\n",
       "    <tr style=\"text-align: right;\">\n",
       "      <th></th>\n",
       "      <th>policy</th>\n",
       "      <th>self_empl</th>\n",
       "      <th>asthma</th>\n",
       "      <th>smoking</th>\n",
       "      <th>COPD</th>\n",
       "      <th>winter</th>\n",
       "      <th>hay_fever</th>\n",
       "      <th>pneu</th>\n",
       "      <th>inf</th>\n",
       "      <th>dysp</th>\n",
       "      <th>...</th>\n",
       "      <th>antibiotics</th>\n",
       "      <th>days_at_home</th>\n",
       "      <th>text</th>\n",
       "      <th>advanced_text</th>\n",
       "      <th>text_hist</th>\n",
       "      <th>text_phys_exam</th>\n",
       "      <th>advanced_text_hist</th>\n",
       "      <th>advanced_text_phys_exam</th>\n",
       "      <th>hist_emb</th>\n",
       "      <th>phys_emb</th>\n",
       "    </tr>\n",
       "  </thead>\n",
       "  <tbody>\n",
       "    <tr>\n",
       "      <th>8276</th>\n",
       "      <td>yes</td>\n",
       "      <td>no</td>\n",
       "      <td>no</td>\n",
       "      <td>no</td>\n",
       "      <td>no</td>\n",
       "      <td>no</td>\n",
       "      <td>no</td>\n",
       "      <td>no</td>\n",
       "      <td>no</td>\n",
       "      <td>no</td>\n",
       "      <td>...</td>\n",
       "      <td>no</td>\n",
       "      <td>1</td>\n",
       "      <td>**History**\\nPatient presents with generalized...</td>\n",
       "      <td>**History**\\nPt reports generalized fatigue x ...</td>\n",
       "      <td>Patient presents with generalized fatigue pers...</td>\n",
       "      <td>Vital signs: blood pressure 120/78 mmHg, pulse...</td>\n",
       "      <td>Pt reports generalized fatigue x several weeks...</td>\n",
       "      <td>VS: BP 120/78, HR 70, Temp 98.6°F. Lungs: CTA ...</td>\n",
       "      <td>[0.018713936, 0.027707404, 0.025443545, -0.003...</td>\n",
       "      <td>[-0.034004696, 0.038478002, 0.016022738, 0.001...</td>\n",
       "    </tr>\n",
       "    <tr>\n",
       "      <th>9288</th>\n",
       "      <td>no</td>\n",
       "      <td>yes</td>\n",
       "      <td>no</td>\n",
       "      <td>no</td>\n",
       "      <td>no</td>\n",
       "      <td>yes</td>\n",
       "      <td>no</td>\n",
       "      <td>no</td>\n",
       "      <td>yes</td>\n",
       "      <td>no</td>\n",
       "      <td>...</td>\n",
       "      <td>no</td>\n",
       "      <td>1</td>\n",
       "      <td>**History**\\nPatient presents with complaints ...</td>\n",
       "      <td>**History**\\nPt c/o light, persistent cough an...</td>\n",
       "      <td>Patient presents with complaints of a light, p...</td>\n",
       "      <td>General: Patient appears alert and oriented, n...</td>\n",
       "      <td>Pt c/o light, persistent cough and scraping pa...</td>\n",
       "      <td>Gen: Alert, oriented, no acute distress.\\nHEEN...</td>\n",
       "      <td>[2.1253845e-05, -0.000994858, 0.002572391, -0....</td>\n",
       "      <td>[-0.019426296, 0.01383667, 0.01292638, -0.0110...</td>\n",
       "    </tr>\n",
       "    <tr>\n",
       "      <th>530</th>\n",
       "      <td>yes</td>\n",
       "      <td>no</td>\n",
       "      <td>no</td>\n",
       "      <td>no</td>\n",
       "      <td>no</td>\n",
       "      <td>yes</td>\n",
       "      <td>no</td>\n",
       "      <td>no</td>\n",
       "      <td>yes</td>\n",
       "      <td>no</td>\n",
       "      <td>...</td>\n",
       "      <td>yes</td>\n",
       "      <td>4</td>\n",
       "      <td>**History**\\nThe patient presents with nasal s...</td>\n",
       "      <td>**History**\\nPt presents w/ nasal Sx: congesti...</td>\n",
       "      <td>The patient presents with nasal symptoms inclu...</td>\n",
       "      <td>Vitals are stable. Examination of the nasal ca...</td>\n",
       "      <td>Pt presents w/ nasal Sx: congestion &amp; rhinorrh...</td>\n",
       "      <td>Vitals stable. Nasal cavity: mild erythema, sw...</td>\n",
       "      <td>[0.025020013, 0.008496902, -0.002807917, -0.03...</td>\n",
       "      <td>[-0.014379498, 0.04056057, -0.001898982, -0.00...</td>\n",
       "    </tr>\n",
       "  </tbody>\n",
       "</table>\n",
       "<p>3 rows × 24 columns</p>\n",
       "</div>"
      ],
      "text/plain": [
       "     policy self_empl asthma smoking COPD winter hay_fever pneu  inf dysp  \\\n",
       "8276    yes        no     no      no   no     no        no   no   no   no   \n",
       "9288     no       yes     no      no   no    yes        no   no  yes   no   \n",
       "530     yes        no     no      no   no    yes        no   no  yes   no   \n",
       "\n",
       "      ... antibiotics days_at_home  \\\n",
       "8276  ...          no            1   \n",
       "9288  ...          no            1   \n",
       "530   ...         yes            4   \n",
       "\n",
       "                                                   text  \\\n",
       "8276  **History**\\nPatient presents with generalized...   \n",
       "9288  **History**\\nPatient presents with complaints ...   \n",
       "530   **History**\\nThe patient presents with nasal s...   \n",
       "\n",
       "                                          advanced_text  \\\n",
       "8276  **History**\\nPt reports generalized fatigue x ...   \n",
       "9288  **History**\\nPt c/o light, persistent cough an...   \n",
       "530   **History**\\nPt presents w/ nasal Sx: congesti...   \n",
       "\n",
       "                                              text_hist  \\\n",
       "8276  Patient presents with generalized fatigue pers...   \n",
       "9288  Patient presents with complaints of a light, p...   \n",
       "530   The patient presents with nasal symptoms inclu...   \n",
       "\n",
       "                                         text_phys_exam  \\\n",
       "8276  Vital signs: blood pressure 120/78 mmHg, pulse...   \n",
       "9288  General: Patient appears alert and oriented, n...   \n",
       "530   Vitals are stable. Examination of the nasal ca...   \n",
       "\n",
       "                                     advanced_text_hist  \\\n",
       "8276  Pt reports generalized fatigue x several weeks...   \n",
       "9288  Pt c/o light, persistent cough and scraping pa...   \n",
       "530   Pt presents w/ nasal Sx: congestion & rhinorrh...   \n",
       "\n",
       "                                advanced_text_phys_exam  \\\n",
       "8276  VS: BP 120/78, HR 70, Temp 98.6°F. Lungs: CTA ...   \n",
       "9288  Gen: Alert, oriented, no acute distress.\\nHEEN...   \n",
       "530   Vitals stable. Nasal cavity: mild erythema, sw...   \n",
       "\n",
       "                                               hist_emb  \\\n",
       "8276  [0.018713936, 0.027707404, 0.025443545, -0.003...   \n",
       "9288  [2.1253845e-05, -0.000994858, 0.002572391, -0....   \n",
       "530   [0.025020013, 0.008496902, -0.002807917, -0.03...   \n",
       "\n",
       "                                               phys_emb  \n",
       "8276  [-0.034004696, 0.038478002, 0.016022738, 0.001...  \n",
       "9288  [-0.019426296, 0.01383667, 0.01292638, -0.0110...  \n",
       "530   [-0.014379498, 0.04056057, -0.001898982, -0.00...  \n",
       "\n",
       "[3 rows x 24 columns]"
      ]
     },
     "execution_count": 14,
     "metadata": {},
     "output_type": "execute_result"
    }
   ],
   "source": [
    "subset.head()"
   ]
  },
  {
   "cell_type": "markdown",
   "metadata": {},
   "source": [
    "The hist and phys embeddings for the entire train and test set are stored in \"data/emb/df_train_emb_part1.p\", \"data/emb/df_train_emb_part2.p\" and \"data/emb/df_test_emb.p\". We precompute these, since the sentence embedding model is quite slow and we are keeping the embeddings static anyway. The train dataframe is split in two, since github does not allow files bigger than 100MB."
   ]
  },
  {
   "cell_type": "code",
   "execution_count": 15,
   "metadata": {},
   "outputs": [],
   "source": [
    "import pickle\n",
    "with open(\"../data/emb/df_train_emb.p\", \"rb\") as file: \n",
    "    df_train = pickle.load(file) "
   ]
  },
  {
   "cell_type": "code",
   "execution_count": 18,
   "metadata": {},
   "outputs": [],
   "source": [
    "df_train_emb_part1 = df_train.iloc[:4000]"
   ]
  },
  {
   "cell_type": "code",
   "execution_count": 20,
   "metadata": {},
   "outputs": [],
   "source": [
    "df_train_emb_part2 = df_train.iloc[4000:]"
   ]
  },
  {
   "cell_type": "code",
   "execution_count": 25,
   "metadata": {},
   "outputs": [],
   "source": [
    "with open(\"../data/emb/df_train_emb_part1.p\", \"wb\") as file: \n",
    "    pickle.dump(df_train_emb_part1, file)\n",
    "with open(\"../data/emb/df_train_emb_part2.p\", \"wb\") as file: \n",
    "    pickle.dump(df_train_emb_part2, file)"
   ]
  },
  {
   "cell_type": "markdown",
   "metadata": {},
   "source": [
    "### Train neural classifier\n",
    "\n",
    "The file \"neural_classifier.py\" contains the TextEmbClassifier class. We can use this class to build an MLP with a specified number of layers and their dimensions. The MLP takes an embedding at the input (size can be specified at initialization) and predicts a symptom at the output. \n",
    "\n",
    "The code below first transforms our dataframe into a Pytorch dataset. Each item in the dataset is a dictionary, containing the symptom label and the embedding, which is selected according to the setting (hist, phys, mean, concat) specified and the complexity (normal, advanced) of the note. "
   ]
  },
  {
   "cell_type": "code",
   "execution_count": 11,
   "metadata": {},
   "outputs": [],
   "source": [
    "import pickle\n",
    "import pandas as pd\n",
    "\n",
    "with open(\"../data/emb/df_train_emb_part1.p\", \"rb\") as file: \n",
    "    df_train1 = pickle.load(file)\n",
    "with open(\"../data/emb/df_train_emb_part2.p\", \"rb\") as file: \n",
    "    df_train2 = pickle.load(file)\n",
    "\n",
    "df_train = pd.concat([df_train1, df_train2]) # concatenate the two parts "
   ]
  },
  {
   "cell_type": "code",
   "execution_count": 4,
   "metadata": {},
   "outputs": [
    {
     "data": {
      "text/plain": [
       "(6400, 1600)"
      ]
     },
     "execution_count": 4,
     "metadata": {},
     "output_type": "execute_result"
    }
   ],
   "source": [
    "from torch.utils.data import random_split\n",
    "from utils.neural_classifier import TabularTextDataset\n",
    "import torch\n",
    "\n",
    "symptom = \"dysp\"\n",
    "setting = \"hist\" \n",
    "type = \"normal\"\n",
    "\n",
    "device = torch.device(\"cuda\" if torch.cuda.is_available() else \"cpu\")\n",
    "dataset = TabularTextDataset(df_train, \"dysp\", device, setting, type)\n",
    "\n",
    "# split off train and validation set\n",
    "train_data, val_data = random_split(dataset, [0.8, 0.2])\n",
    "\n",
    "len(train_data), len(val_data)"
   ]
  },
  {
   "cell_type": "markdown",
   "metadata": {},
   "source": [
    "The dimension of the \"hist\" embedding type is 768. All other embedding types have the same dimension, except for concat, which is 2*768."
   ]
  },
  {
   "cell_type": "code",
   "execution_count": 5,
   "metadata": {},
   "outputs": [
    {
     "name": "stdout",
     "output_type": "stream",
     "text": [
      "tensor(0.)\n",
      "tensor([-0.0118,  0.0210,  0.0013, -0.0220,  0.0206, -0.0173, -0.0033,  0.0342,\n",
      "         0.0233, -0.0293])\n"
     ]
    }
   ],
   "source": [
    "print(train_data.__getitem__(0)[\"dysp\"]) # symptom label\n",
    "print(train_data.__getitem__(0)[\"emb\"][:10]) # first 10 positions of text embedding"
   ]
  },
  {
   "cell_type": "code",
   "execution_count": 6,
   "metadata": {},
   "outputs": [
    {
     "data": {
      "text/plain": [
       "torch.Size([768])"
      ]
     },
     "execution_count": 6,
     "metadata": {},
     "output_type": "execute_result"
    }
   ],
   "source": [
    "train_data.__getitem__(0)[\"emb\"].shape"
   ]
  },
  {
   "cell_type": "markdown",
   "metadata": {},
   "source": [
    "The function \"train_sympt_classifier\" can be used to train a symptom classifier and keep track of train and test loss along the way. We train the classifier using the cross-entropy loss. We show an example of a classifier that is trained for the setting normal, hist and the symptom dyspnea. "
   ]
  },
  {
   "cell_type": "code",
   "execution_count": 9,
   "metadata": {},
   "outputs": [],
   "source": [
    "from utils.neural_classifier import train_sympt_classifier\n",
    "\n",
    "sympt = \"dysp\"\n",
    "n_emb = 768\n",
    "hidden_dim = [768, 256, 1]\n",
    "dropout = 0\n",
    "bs_train = 100\n",
    "epochs = 15\n",
    "seed = 2023\n",
    "lr = 0.001\n",
    "weight_decay = 1e-5\n",
    "\n",
    "train_loss, test_loss, model = train_sympt_classifier(train_data, val_data, sympt, n_emb, hidden_dim, dropout, device, bs_train, epochs, seed, lr, weight_decay)"
   ]
  },
  {
   "cell_type": "code",
   "execution_count": 10,
   "metadata": {},
   "outputs": [
    {
     "data": {
      "image/png": "[encoded data removed]",
      "text/plain": [
       "<Figure size 432x288 with 1 Axes>"
      ]
     },
     "metadata": {
      "needs_background": "light"
     },
     "output_type": "display_data"
    }
   ],
   "source": [
    "import matplotlib.pyplot as plt\n",
    "\n",
    "plt.plot(train_loss, label=\"train\")\n",
    "plt.plot(test_loss, label=\"val\")\n",
    "plt.legend()\n",
    "plt.show()"
   ]
  },
  {
   "cell_type": "markdown",
   "metadata": {},
   "source": [
    "We can then evaluate the model over the test set using the function \"eval_symptom_classifier\". Here, we compare the predictions of the model with the ground truth symptom labels, and calculate the precision, recall, F1 and accuracy. "
   ]
  },
  {
   "cell_type": "code",
   "execution_count": 11,
   "metadata": {},
   "outputs": [],
   "source": [
    "with open(\"../data/emb/df_test_emb.p\", \"rb\") as file: \n",
    "    df_test = pickle.load(file)\n",
    "\n",
    "symptom = \"dysp\"\n",
    "setting = \"hist\" \n",
    "type = \"normal\"\n",
    "device = torch.device(\"cuda\" if torch.cuda.is_available() else \"cpu\")\n",
    "test_data = TabularTextDataset(df_test, symptom, device, setting, type)"
   ]
  },
  {
   "cell_type": "code",
   "execution_count": 12,
   "metadata": {},
   "outputs": [],
   "source": [
    "from utils.neural_classifier import eval_symptom_classifier\n",
    "precision, recall, f1, acc = eval_symptom_classifier(symptom, test_data, model)"
   ]
  },
  {
   "cell_type": "code",
   "execution_count": 13,
   "metadata": {},
   "outputs": [
    {
     "data": {
      "text/plain": [
       "(0.9593908629441624, 0.9473684210526315, 0.953341740226986, 0.9815)"
      ]
     },
     "execution_count": 13,
     "metadata": {},
     "output_type": "execute_result"
    }
   ],
   "source": [
    "precision, recall, f1, acc"
   ]
  },
  {
   "cell_type": "markdown",
   "metadata": {},
   "source": [
    "Following the example outlined above, we trained classifiers for the symptoms dysp, cough, pain and nasal, in combination with each note type (normal or advanced) and each embedding setting (hist, phys, mean, concat). We used the same hyperparameters for all these classifiers (same as the ones used in the example). These hyperparameters were obtained using a mix of manual tuning and exhaustive grid search over the setting \"mean\" for the normal notes. \n",
    "\n",
    "For fever, we did a separate hyperparameter optimization, since we noticed that this classifier tended to collapse more easily towards the majority classes (none and low). We landed on training the fever classifiers for 30 epochs, with a learning rate of 5e-4 instead. \n",
    "\n",
    "Training all these models over the full training set, and evaluating them over the test set, yields the results stored in \"results/neural_normal_test.p\" and \"results/neural_adv_test.p\"."
   ]
  },
  {
   "cell_type": "markdown",
   "metadata": {},
   "source": [
    "### Span embeddings \n",
    "\n",
    "We annotated the notes with spans of where each symptom was mentioned. To get a representation of the notes which contains only the most important information for predicting whether a symptom is present or not, we can use these spans to our advantage. Of course, in a realistic setting, it is unlikely that one would have accessed to a dataset of clinical notes that is fully annotated with spans, so this baseline should be treated as a gold standard for the text-only predictors. \n",
    "\n",
    "We first generate a BioLORD embedding for each span. "
   ]
  },
  {
   "cell_type": "code",
   "execution_count": 1,
   "metadata": {},
   "outputs": [
    {
     "name": "stderr",
     "output_type": "stream",
     "text": [
      "c:\\Users\\Paloma\\anaconda3\\envs\\transformers\\Lib\\site-packages\\tqdm\\auto.py:21: TqdmWarning: IProgress not found. Please update jupyter and ipywidgets. See https://ipywidgets.readthedocs.io/en/stable/user_install.html\n",
      "  from .autonotebook import tqdm as notebook_tqdm\n",
      "c:\\Users\\Paloma\\anaconda3\\envs\\transformers\\Lib\\site-packages\\torch\\_utils.py:776: UserWarning: TypedStorage is deprecated. It will be removed in the future and UntypedStorage will be the only storage class. This should only matter to you if you are using storages directly.  To access UntypedStorage directly, use tensor.untyped_storage() instead of tensor.storage()\n",
      "  return self.fget.__get__(instance, owner)()\n"
     ]
    }
   ],
   "source": [
    "from sentence_transformers import SentenceTransformer\n",
    "model = SentenceTransformer(\"FremyCompany/BioLORD-2023\") # import the BioLORD model"
   ]
  },
  {
   "cell_type": "code",
   "execution_count": 3,
   "metadata": {},
   "outputs": [],
   "source": [
    "import json\n",
    "with open(\"../data/spans/normal_span_annotations.json\", \"r\") as file: \n",
    "    ann_normal = json.load(file)"
   ]
  },
  {
   "cell_type": "markdown",
   "metadata": {},
   "source": [
    "By way of example, we generate the BioLORD embeddings for the first note. "
   ]
  },
  {
   "cell_type": "code",
   "execution_count": 5,
   "metadata": {},
   "outputs": [],
   "source": [
    "for i in ann_normal: \n",
    "    phrases = ann_normal[i]\n",
    "    phrases_done = {}\n",
    "    for phrase in phrases: \n",
    "        if phrase[\"text\"] not in phrases_done: \n",
    "            phrase[\"emb\"] = model.encode(phrase[\"text\"], normalize_embeddings=True).tolist()\n",
    "            phrases_done[phrase[\"text\"]] = phrase[\"emb\"]\n",
    "        else: \n",
    "            phrase[\"emb\"] = phrases_done[phrase[\"text\"]] # avoid generating the same embedding twice\n",
    "    if int(i) > 1: \n",
    "        break"
   ]
  },
  {
   "cell_type": "code",
   "execution_count": 9,
   "metadata": {},
   "outputs": [
    {
     "name": "stdout",
     "output_type": "stream",
     "text": [
      "fever: significant increase in body temperature over the last 48 hours, exceeding normal ranges, indicating a high fever\n",
      "emb: [0.05390307307243347, 0.016428271308541298, -0.03677591681480408, 0.019698454067111015, 0.00566745875403285, 0.025086641311645508, -0.029491590335965157, 0.015968531370162964, -0.034412965178489685, -0.0006697901408188045]\n",
      "fever: feeling very fatigued due to the fever\n",
      "emb: [0.014135751873254776, 0.012505206279456615, 0.08213531225919724, -0.015574387274682522, 0.03412409499287605, -8.686430373927578e-05, -0.04116759076714516, -0.005188985727727413, -0.050105802714824677, -0.046409644186496735]\n",
      "fever: Vital signs show elevated temperature (103 °F)\n",
      "emb: [0.021095838397741318, 0.020052265375852585, -0.02430410124361515, 0.016431450843811035, 0.030646374449133873, -0.011013290844857693, -0.022127388045191765, 0.05990442633628845, -0.007870732806622982, -0.0157032273709774]\n",
      "fever: corresponding with the fever\n",
      "emb: [-0.000666009436827153, -0.020893873646855354, 0.010700874961912632, -0.03911806643009186, -0.03950824961066246, 0.02840656228363514, 0.03162936121225357, 0.02055453322827816, 0.013262700289487839, -0.03495192527770996]\n",
      "dyspnea: There have been no respiratory symptoms such as pain, dyspnea, or cough\n",
      "emb: [-0.07442205399274826, 0.016185812652111053, 0.012559653259813786, -0.054890647530555725, 0.00038668516208417714, -0.025326894596219063, -0.010132774710655212, 0.026865363121032715, 0.03667736053466797, -0.0912613719701767]\n",
      "cough: There have been no respiratory symptoms such as pain, dyspnea, or cough\n",
      "emb: [-0.07442205399274826, 0.016185812652111053, 0.012559653259813786, -0.054890647530555725, 0.00038668516208417714, -0.025326894596219063, -0.010132774710655212, 0.026865363121032715, 0.03667736053466797, -0.0912613719701767]\n",
      "respiratory pain: There have been no respiratory symptoms such as pain, dyspnea, or cough\n",
      "emb: [-0.07442205399274826, 0.016185812652111053, 0.012559653259813786, -0.054890647530555725, 0.00038668516208417714, -0.025326894596219063, -0.010132774710655212, 0.026865363121032715, 0.03667736053466797, -0.0912613719701767]\n"
     ]
    }
   ],
   "source": [
    "for span in ann_normal[\"0\"]: \n",
    "    sympt = span[\"symptom\"]\n",
    "    text = span[\"text\"]\n",
    "    emb = span[\"emb\"][:10]\n",
    "    print(f\"{sympt}: {text}\")\n",
    "    print(f\"emb: {emb}\")"
   ]
  },
  {
   "cell_type": "markdown",
   "metadata": {},
   "source": [
    "For each symptom, we construct a span embedding by averaging the embeddings for all extracted spans that mention the symptom. When there are no spans for a certain symptom, we just take the mean embedding of the whole note (history and physical examination). "
   ]
  },
  {
   "cell_type": "code",
   "execution_count": 10,
   "metadata": {},
   "outputs": [],
   "source": [
    "import numpy as np\n",
    "\n",
    "SYMPT_DICT = {\"dysp\": \"dyspnea\", \"cough\": \"cough\", \"pain\": \"respiratory pain\", \"nasal\": \"nasal symptoms\", \"fever\": \"fever\"}\n",
    "\n",
    "def embed_spans(row, ann, sympt, compl): \n",
    "    i = row.name\n",
    "    spans = ann[str(i)]\n",
    "    embs = np.array([], dtype=np.float32).reshape(0,768)\n",
    "    for span in spans: \n",
    "        if span[\"symptom\"] == SYMPT_DICT[sympt]: \n",
    "            embs = np.vstack([embs, span[\"emb\"]])\n",
    "    if len(embs) == 0: \n",
    "        if compl == \"normal\": \n",
    "            return (row[\"hist_emb\"]+row[\"phys_emb\"])/2 # take mean of hist and phys\n",
    "        else: \n",
    "            return (row[\"adv_hist_emb\"]+row[\"adv_phys_emb\"])/2 # take mean of hist and phys\n",
    "    else:\n",
    "        return np.mean(embs, axis=0)"
   ]
  },
  {
   "cell_type": "code",
   "execution_count": null,
   "metadata": {},
   "outputs": [],
   "source": [
    "emb = embed_spans(df_train.loc[0], ann_normal, \"dysp\", \"normal\")"
   ]
  },
  {
   "cell_type": "code",
   "execution_count": 16,
   "metadata": {},
   "outputs": [
    {
     "data": {
      "text/plain": [
       "array([-0.07442205,  0.01618581,  0.01255965, -0.05489065,  0.00038669,\n",
       "       -0.02532689, -0.01013277,  0.02686536,  0.03667736, -0.09126137])"
      ]
     },
     "execution_count": 16,
     "metadata": {},
     "output_type": "execute_result"
    }
   ],
   "source": [
    "emb[:10]"
   ]
  },
  {
   "cell_type": "markdown",
   "metadata": {},
   "source": [
    "Such span embeddings were generated for each symptom, for both the normal and advanced notes, and stored in \"data/span\" folder. Each of these files contains the average span embeddings ordered by index (0 to 10000) for each combination of the symptom and note types. We can load in these embeddings as follows, after which we can train a neural classifier in the same way as we did before. "
   ]
  },
  {
   "cell_type": "code",
   "execution_count": 20,
   "metadata": {},
   "outputs": [],
   "source": [
    "import numpy as np\n",
    "def load_span_embeddings(df_train, df_test, sympt, compl): \n",
    "    with open(f\"../data/emb/span/{sympt}_{compl}_ann_emb.npy\", \"rb\") as file:\n",
    "        embs = np.load(file)\n",
    "        \n",
    "    df_train[f\"{compl}_span_{sympt}\"] = df_train.apply(lambda row: embs[row.name], axis=1)\n",
    "    df_test[f\"{compl}_span_{sympt}\"] = df_test.apply(lambda row: embs[row.name], axis=1)\n",
    "    \n",
    "    return df_train, df_test"
   ]
  },
  {
   "cell_type": "markdown",
   "metadata": {},
   "source": [
    "For example, below, we load in the embeddings for symptom dysp (normal notes), train a classifier, and evaluate over the test set. "
   ]
  },
  {
   "cell_type": "code",
   "execution_count": 18,
   "metadata": {},
   "outputs": [],
   "source": [
    "with open(\"../data/emb/df_train_emb.p\", \"rb\") as file:\n",
    "    df_train = pickle.load(file)\n",
    "with open(\"../data/emb/df_test_emb.p\", \"rb\") as file:\n",
    "    df_test = pickle.load(file)"
   ]
  },
  {
   "cell_type": "code",
   "execution_count": 21,
   "metadata": {},
   "outputs": [],
   "source": [
    "df_train, df_test = load_span_embeddings(df_train, df_test, \"dysp\", \"normal\")"
   ]
  },
  {
   "cell_type": "code",
   "execution_count": 26,
   "metadata": {},
   "outputs": [],
   "source": [
    "from utils.neural_classifier import TabularTextDataset\n",
    "import torch\n",
    "from torch.utils.data import random_split \n",
    "\n",
    "device = torch.device(\"cuda\" if torch.cuda.is_available() else \"cpu\")\n",
    "dataset = TabularTextDataset(df_train, \"dysp\", device, \"span\", \"normal\")\n",
    "train_data, val_data = random_split(dataset, [0.8, 0.2])"
   ]
  },
  {
   "cell_type": "code",
   "execution_count": 27,
   "metadata": {},
   "outputs": [],
   "source": [
    "from utils.neural_classifier import train_sympt_classifier\n",
    "\n",
    "sympt = \"dysp\"\n",
    "n_emb = 768\n",
    "hidden_dim = [768, 256, 1]\n",
    "dropout = 0\n",
    "bs_train = 100\n",
    "epochs = 15\n",
    "seed = 2023\n",
    "lr = 0.001\n",
    "weight_decay = 1e-5\n",
    "\n",
    "train_loss, test_loss, model = train_sympt_classifier(train_data, val_data, sympt, n_emb, hidden_dim, dropout, device, bs_train, epochs, seed, lr, weight_decay)"
   ]
  },
  {
   "cell_type": "code",
   "execution_count": 32,
   "metadata": {},
   "outputs": [
    {
     "data": {
      "image/png": "[encoded data removed]",
      "text/plain": [
       "<Figure size 640x480 with 1 Axes>"
      ]
     },
     "metadata": {},
     "output_type": "display_data"
    }
   ],
   "source": [
    "import matplotlib.pyplot as plt\n",
    "\n",
    "plt.plot(train_loss, label=\"train\")\n",
    "plt.plot(test_loss, label=\"val\")\n",
    "plt.legend()\n",
    "plt.show()"
   ]
  },
  {
   "cell_type": "code",
   "execution_count": 33,
   "metadata": {},
   "outputs": [],
   "source": [
    "symptom = \"dysp\"\n",
    "device = torch.device(\"cuda\" if torch.cuda.is_available() else \"cpu\")\n",
    "test_data = TabularTextDataset(df_test, symptom, device, \"span\", \"normal\")"
   ]
  },
  {
   "cell_type": "code",
   "execution_count": 34,
   "metadata": {},
   "outputs": [],
   "source": [
    "from utils.neural_classifier import eval_symptom_classifier\n",
    "precision, recall, f1, acc = eval_symptom_classifier(symptom, test_data, model)"
   ]
  },
  {
   "cell_type": "markdown",
   "metadata": {},
   "source": [
    "We run such a classifier for every symptom, extending the neural-text baselines with classifiers that get to see the span embeddings at the input instead of the full text embedding. The results are added to \"results/neural_normal_test.p\" and \"results/neural_adv_test.p\" under the label \"span\". \n",
    "\n",
    "We compare the different neural-text baselines in the figure below. "
   ]
  },
  {
   "cell_type": "code",
   "execution_count": 1,
   "metadata": {},
   "outputs": [],
   "source": [
    "import pickle\n",
    "with open(\"../results/neural_normal_test.p\", \"rb\") as file: \n",
    "    results_normal = pickle.load(file)\n",
    "with open(\"../results/neural_adv_test.p\", \"rb\") as file: \n",
    "    results_adv = pickle.load(file)"
   ]
  },
  {
   "cell_type": "code",
   "execution_count": 2,
   "metadata": {},
   "outputs": [],
   "source": [
    "import pandas as pd\n",
    "\n",
    "SETTING_DICT = {\"hist\": \"hist\", \"phys\":\"phys\", \"both_mean\": \"mean\", \"both_concat\": \"concat\", \"span\": \"span\"}\n",
    "\n",
    "def calc_mean_std(res): \n",
    "    res_mean = {}\n",
    "    res_std = {}\n",
    "    for emb_type in [\"hist\", \"phys\", \"both_mean\", \"both_concat\", \"span\"]:\n",
    "        res_mean[SETTING_DICT[emb_type]] = pd.DataFrame(columns = [\"precision\", \"recall\", \"f1\", \"accuracy\"])\n",
    "        res_std[SETTING_DICT[emb_type]] = pd.DataFrame(columns = [\"precision\", \"recall\", \"f1\", \"accuracy\"])\n",
    "        for sympt in [\"dysp\", \"cough\", \"pain\", \"nasal\", \"fever\"]: \n",
    "            res_mean[SETTING_DICT[emb_type]].loc[sympt] = res[emb_type][sympt].mean()\n",
    "            res_std[SETTING_DICT[emb_type]].loc[sympt] = res[emb_type][sympt].std()\n",
    "    return res_mean, res_std\n",
    "\n",
    "res_mean_normal, res_std_normal = calc_mean_std(results_normal)\n",
    "res_mean_adv, res_std_adv = calc_mean_std(results_adv)"
   ]
  },
  {
   "cell_type": "code",
   "execution_count": 4,
   "metadata": {},
   "outputs": [
    {
     "data": {
      "image/png": "[encoded data removed]",
      "text/plain": [
       "<Figure size 1000x600 with 1 Axes>"
      ]
     },
     "metadata": {},
     "output_type": "display_data"
    }
   ],
   "source": [
    "import matplotlib.pyplot as plt\n",
    "\n",
    "# List of symptoms\n",
    "symptoms = [\"dysp\", \"cough\", \"pain\", \"fever\", \"nasal\"]\n",
    "\n",
    "# List of settings\n",
    "settings = [\"hist\", \"phys\", \"mean\", \"concat\", \"span\"]\n",
    "\n",
    "# Define a color map for each symptom\n",
    "colors = {\n",
    "    \"dysp\": \"blue\",\n",
    "    \"fever\": \"orange\",\n",
    "    \"cough\": \"green\",\n",
    "    \"pain\": \"red\",\n",
    "    \"nasal\": \"purple\"\n",
    "}\n",
    "\n",
    "# Create the plot\n",
    "plt.figure(figsize=(10, 6))\n",
    "\n",
    "# Loop over each symptom and plot the F1 scores for both sets of data\n",
    "for symptom in symptoms:\n",
    "    f1_scores = []\n",
    "    f1_scores_adv = []\n",
    "    error_bars = []\n",
    "    error_bars_adv = []\n",
    "\n",
    "    # Extract F1 scores from the original and new dataframes\n",
    "    for setting in settings:\n",
    "        f1_scores = [res_mean_normal[setting].loc[symptom, \"f1\"] for setting in settings]\n",
    "        f1_scores_adv = [res_mean_adv[setting].loc[symptom, \"f1\"] for setting in settings]\n",
    "        std_normal = [res_std_normal[setting].loc[symptom, \"f1\"] for setting in settings]\n",
    "        std_adv = [res_std_adv[setting].loc[symptom, \"f1\"] for setting in settings]\n",
    "\n",
    "        margin_normal = [1.96 * (s / (5 ** 0.5)) for s in std_normal]\n",
    "        margin_adv = [1.96 * (s / (5 ** 0.5)) for s in std_adv]\n",
    "\n",
    "    plt.plot(settings, f1_scores, marker='o', label=f'{symptom.capitalize()} (Normal)', color=colors[symptom])\n",
    "    plt.fill_between(settings, \n",
    "                    [m - e for m, e in zip(f1_scores, margin_normal)], \n",
    "                    [m + e for m, e in zip(f1_scores, margin_normal)], \n",
    "                    color=colors[symptom], alpha=0.15)\n",
    "\n",
    "    plt.plot(settings, f1_scores_adv, linestyle='--', marker='o', label=f'{symptom.capitalize()} (Compact)', color=colors[symptom])\n",
    "    plt.fill_between(settings, \n",
    "                    [m - e for m, e in zip(f1_scores_adv, margin_adv)], \n",
    "                    [m + e for m, e in zip(f1_scores_adv, margin_adv)], \n",
    "                    color=colors[symptom], alpha=0.15)\n",
    "        \n",
    "plt.xlabel(\"Embedding type\")\n",
    "plt.ylabel(\"F1 Score\")\n",
    "plt.ylim([0.5, 1])\n",
    "plt.grid(True)\n",
    "plt.legend(title=\"Symptom\", loc='lower right')\n",
    "plt.tight_layout()\n",
    "plt.savefig(\"text_classifier_emb_types.png\", dpi=300, bbox_inches=\"tight\")\n",
    "\n",
    "plt.show()"
   ]
  },
  {
   "cell_type": "markdown",
   "metadata": {},
   "source": [
    "## Neural-text-tab\n",
    "\n",
    "We build upon the previous text-only classifier to build a classifier which also includes the tabular features at the input. To this end, we transform the tabular features into one-hot encodings, while days at home is included as a number (which we first normalize using a StandardScaler). We build this tabular feature vector for each of the 3 evidence settings (all, no_sympt, realistic), and combine them with the \"mean\" text embedding from the neural-text model. We do this for both the normal texts and the compact versions. \n",
    "\n",
    "The TabularDataset class in the \"neural_classifier\" module creates such a tabular dataset, provided the requested note type, note complexity and evidence setting. As an example, we create such a dataset for the dyspnea symptom, with \"all\" as evidence setting and using the \"mean\" text embedding for the normal notes."
   ]
  },
  {
   "cell_type": "code",
   "execution_count": 47,
   "metadata": {},
   "outputs": [],
   "source": [
    "import pickle\n",
    "import pandas as pd\n",
    "\n",
    "with open(\"../data/emb/df_train_emb_part1.p\", \"rb\") as file: \n",
    "    df_train1 = pickle.load(file)\n",
    "with open(\"../data/emb/df_train_emb_part2.p\", \"rb\") as file: \n",
    "    df_train2 = pickle.load(file)\n",
    "\n",
    "df_train = pd.concat([df_train1, df_train2]) # concatenate the two parts \n",
    "\n",
    "with open(\"../data/emb/df_test_emb.p\", \"rb\") as file: \n",
    "    df_test = pickle.load(file)"
   ]
  },
  {
   "cell_type": "code",
   "execution_count": 16,
   "metadata": {},
   "outputs": [],
   "source": [
    "from utils.neural_classifier import TabularTextDataset\n",
    "import torch\n",
    "\n",
    "device = torch.device(\"cuda\" if torch.cuda.is_available() else \"cpu\")\n",
    "train_data = TabularTextDataset(df_train, \"dysp\", device, \"both_mean\", \"normal\", \"all\")"
   ]
  },
  {
   "cell_type": "markdown",
   "metadata": {},
   "source": [
    "To make the test dataset, we need to reuse the one-hot encoder and standard scaler which were fit to the training data."
   ]
  },
  {
   "cell_type": "code",
   "execution_count": 17,
   "metadata": {},
   "outputs": [],
   "source": [
    "test_data = TabularTextDataset(df_test, \"dysp\", device, \"both_mean\", \"normal\", \"all\", encoder=train_data.enc, scaler=train_data.scaler)"
   ]
  },
  {
   "cell_type": "code",
   "execution_count": 18,
   "metadata": {},
   "outputs": [
    {
     "name": "stdout",
     "output_type": "stream",
     "text": [
      "dict_keys(['dysp', 'tab', 'emb'])\n",
      "tensor(0.)\n",
      "tensor([ 1.0000,  0.0000,  0.0000,  0.0000,  0.0000,  0.0000,  0.0000,  0.0000,\n",
      "         0.0000,  0.0000,  0.0000,  0.0000,  0.0000,  0.0000,  1.0000,  0.0000,\n",
      "        -0.4448])\n",
      "tensor([-0.0076,  0.0331,  0.0207, -0.0011,  0.0254, -0.0134, -0.0362,  0.0096,\n",
      "        -0.0117, -0.0309])\n"
     ]
    }
   ],
   "source": [
    "print(train_data.__getitem__(0).keys()) # keys: symptom, tab, emb\n",
    "print(train_data.__getitem__(0)[\"dysp\"]) # symptom label\n",
    "print(train_data.__getitem__(0)[\"tab\"]) # encoded tabular features\n",
    "print(train_data.__getitem__(0)[\"emb\"][:10]) # first 10 positions of text embedding"
   ]
  },
  {
   "cell_type": "code",
   "execution_count": 19,
   "metadata": {},
   "outputs": [
    {
     "data": {
      "text/plain": [
       "torch.Size([768])"
      ]
     },
     "execution_count": 19,
     "metadata": {},
     "output_type": "execute_result"
    }
   ],
   "source": [
    "train_data.__getitem__(0)[\"emb\"].shape"
   ]
  },
  {
   "cell_type": "code",
   "execution_count": 20,
   "metadata": {},
   "outputs": [
    {
     "data": {
      "text/plain": [
       "torch.Size([17])"
      ]
     },
     "execution_count": 20,
     "metadata": {},
     "output_type": "execute_result"
    }
   ],
   "source": [
    "train_data.__getitem__(0)[\"tab\"].shape"
   ]
  },
  {
   "cell_type": "markdown",
   "metadata": {},
   "source": [
    "The shape of the tabular feature vector depends on the evidence setting and the symptom. For the dysp example above, the shape is 17 (13 binary features, 3 categories for fever, 1 number for days_at_home).\n",
    "\n",
    "We can now train the tab-text symptom classifier in a similar fashion to how we trained the text-only symptom classifier above, setting the with_tab argument to True. We use the same hyperparameters as for the text-only symptom classifier, to allow for a fair comparison. "
   ]
  },
  {
   "cell_type": "code",
   "execution_count": 21,
   "metadata": {},
   "outputs": [],
   "source": [
    "from utils.neural_classifier import train_sympt_classifier\n",
    "\n",
    "sympt = \"dysp\"\n",
    "n_emb = 768 + 17\n",
    "hidden_dim = [n_emb, 256, 1]\n",
    "dropout = 0\n",
    "bs_train = 100\n",
    "epochs = 15\n",
    "seed = 2023\n",
    "lr = 0.001\n",
    "weight_decay = 1e-5\n",
    "\n",
    "train_loss, test_loss, model = train_sympt_classifier(train_data, test_data, sympt, n_emb, hidden_dim, dropout, device, bs_train, epochs, seed, lr, weight_decay, with_tab=True)"
   ]
  },
  {
   "cell_type": "code",
   "execution_count": 22,
   "metadata": {},
   "outputs": [
    {
     "data": {
      "image/png": "[encoded data removed]",
      "text/plain": [
       "<Figure size 432x288 with 1 Axes>"
      ]
     },
     "metadata": {
      "needs_background": "light"
     },
     "output_type": "display_data"
    }
   ],
   "source": [
    "import matplotlib.pyplot as plt\n",
    "\n",
    "plt.plot(train_loss, label=\"train\")\n",
    "plt.plot(test_loss, label=\"val\")\n",
    "plt.legend()\n",
    "plt.show()"
   ]
  },
  {
   "cell_type": "markdown",
   "metadata": {},
   "source": [
    "As before, we evaluate the model over the test set, now setting the with_tab argument to True."
   ]
  },
  {
   "cell_type": "code",
   "execution_count": 23,
   "metadata": {},
   "outputs": [],
   "source": [
    "from utils.neural_classifier import eval_symptom_classifier\n",
    "symptom = \"dysp\"\n",
    "precision, recall, f1, acc = eval_symptom_classifier(symptom, test_data, model, with_tab=True)"
   ]
  },
  {
   "cell_type": "markdown",
   "metadata": {},
   "source": [
    "Training all the models (all symptoms, combined with all evidence settings) over the full training set, and evaluating them over the test set, yields the results stored in \"results/neural_tab_normal_test.p\" and \"results/neural_tab_adv_test.p\". We plot the results below."
   ]
  },
  {
   "cell_type": "code",
   "execution_count": 90,
   "metadata": {},
   "outputs": [],
   "source": [
    "import pickle\n",
    "with open(\"../results/neural_tab_normal_test.p\", \"rb\") as file: \n",
    "    results_normal = pickle.load(file)\n",
    "with open(\"../results/neural_tab_adv_test.p\", \"rb\") as file: \n",
    "    results_adv = pickle.load(file)"
   ]
  },
  {
   "cell_type": "code",
   "execution_count": 91,
   "metadata": {},
   "outputs": [],
   "source": [
    "import pandas as pd\n",
    "\n",
    "def calc_mean_std(res): \n",
    "    res_mean = {}\n",
    "    res_std = {}\n",
    "    for feat_setting in [\"all\", \"no_sympt\", \"realistic\"]:\n",
    "        res_mean[feat_setting] = pd.DataFrame(columns = [\"precision\", \"recall\", \"f1\", \"accuracy\"])\n",
    "        res_std[feat_setting] = pd.DataFrame(columns = [\"precision\", \"recall\", \"f1\", \"accuracy\"])\n",
    "        for sympt in [\"dysp\", \"cough\", \"pain\", \"nasal\", \"fever\"]: \n",
    "            res_mean[feat_setting].loc[sympt] = res[feat_setting][sympt].mean()\n",
    "            res_std[feat_setting].loc[sympt] = res[feat_setting][sympt].std()\n",
    "    return res_mean, res_std\n",
    "\n",
    "res_mean_normal, res_std_normal = calc_mean_std(results_normal)\n",
    "res_mean_adv, res_std_adv = calc_mean_std(results_adv)"
   ]
  },
  {
   "cell_type": "code",
   "execution_count": 92,
   "metadata": {},
   "outputs": [
    {
     "data": {
      "image/png": "[encoded data removed]",
      "text/plain": [
       "<Figure size 720x432 with 1 Axes>"
      ]
     },
     "metadata": {
      "needs_background": "light"
     },
     "output_type": "display_data"
    }
   ],
   "source": [
    "import matplotlib.pyplot as plt\n",
    "\n",
    "# List of symptoms\n",
    "symptoms = [\"dysp\", \"cough\", \"pain\", \"fever\", \"nasal\"]\n",
    "\n",
    "# List of settings\n",
    "settings = [\"all\", \"no_sympt\", \"realistic\"]\n",
    "\n",
    "# Define a color map for each symptom\n",
    "colors = {\n",
    "    \"dysp\": \"blue\",\n",
    "    \"fever\": \"orange\",\n",
    "    \"cough\": \"green\",\n",
    "    \"pain\": \"red\",\n",
    "    \"nasal\": \"purple\"\n",
    "}\n",
    "\n",
    "# Create the plot\n",
    "plt.figure(figsize=(10, 6))\n",
    "\n",
    "# Loop over each symptom and plot the F1 scores for both sets of data\n",
    "for symptom in symptoms:\n",
    "    f1_scores = []\n",
    "    f1_scores_adv = []\n",
    "    error_bars = []\n",
    "    error_bars_adv = []\n",
    "\n",
    "    # Extract F1 scores from the original and new dataframes\n",
    "    for setting in settings:\n",
    "        f1_scores = [res_mean_normal[setting].loc[symptom, \"f1\"] for setting in settings]\n",
    "        f1_scores_adv = [res_mean_adv[setting].loc[symptom, \"f1\"] for setting in settings]\n",
    "        std_normal = [res_std_normal[setting].loc[symptom, \"f1\"] for setting in settings]\n",
    "        std_adv = [res_std_adv[setting].loc[symptom, \"f1\"] for setting in settings]\n",
    "\n",
    "        margin_normal = [1.96 * (s / (5 ** 0.5)) for s in std_normal]\n",
    "        margin_adv = [1.96 * (s / (5 ** 0.5)) for s in std_adv]\n",
    "\n",
    "    plt.plot(settings, f1_scores, marker='o', label=f'{symptom.capitalize()} (Normal)', color=colors[symptom])\n",
    "    plt.fill_between(settings, \n",
    "                    [m - e for m, e in zip(f1_scores, margin_normal)], \n",
    "                    [m + e for m, e in zip(f1_scores, margin_normal)], \n",
    "                    color=colors[symptom], alpha=0.15)\n",
    "\n",
    "    plt.plot(settings, f1_scores_adv, linestyle='--', marker='o', label=f'{symptom.capitalize()} (Compact)', color=colors[symptom])\n",
    "    plt.fill_between(settings, \n",
    "                    [m - e for m, e in zip(f1_scores_adv, margin_adv)], \n",
    "                    [m + e for m, e in zip(f1_scores_adv, margin_adv)], \n",
    "                    color=colors[symptom], alpha=0.15)\n",
    "        \n",
    "plt.xlabel(\"Feature setting\")\n",
    "plt.ylabel(\"F1 Score\")\n",
    "plt.ylim([0.75, 1])\n",
    "plt.grid(True)\n",
    "plt.legend(title=\"Symptom\", loc='lower right')\n",
    "plt.tight_layout()\n",
    "\n",
    "plt.show()"
   ]
  },
  {
   "cell_type": "code",
   "execution_count": null,
   "metadata": {},
   "outputs": [],
   "source": []
  }
 ],
 "metadata": {
  "kernelspec": {
   "display_name": "bn-text",
   "language": "python",
   "name": "python3"
  },
  "language_info": {
   "codemirror_mode": {
    "name": "ipython",
    "version": 3
   },
   "file_extension": ".py",
   "mimetype": "text/x-python",
   "name": "python",
   "nbconvert_exporter": "python",
   "pygments_lexer": "ipython3",
   "version": "3.11.4"
  }
 },
 "nbformat": 4,
 "nbformat_minor": 2
}
