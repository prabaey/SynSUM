{
 "cells": [
  {
   "cell_type": "markdown",
   "metadata": {},
   "source": [
    "# Text Generation\n",
    "\n",
    "In this notebook, we demonstrate how the text prompts are created based on the information in the tabular patient record. These prompts were fed into GPT-4o to generate our free text descriptions of the patient encounters.  "
   ]
  },
  {
   "cell_type": "code",
   "execution_count": 1,
   "metadata": {},
   "outputs": [],
   "source": [
    "from utils.prompt_generation import PromptGeneration, prompt_GPT_no_symptom_no_bg, split_unrelated_notes"
   ]
  },
  {
   "cell_type": "markdown",
   "metadata": {},
   "source": [
    "We load in the SynSUM dataset, which already includes the synthetic text notes (columns \"text\" and \"advanced_text\"). We isolate the tabular portion of the dataset to demonstrate how we generated the prompts that were used to obtain the synthetic text notes. "
   ]
  },
  {
   "cell_type": "code",
   "execution_count": 2,
   "metadata": {},
   "outputs": [],
   "source": [
    "import pickle\n",
    "with open(\"data/df_synsum.p\", \"rb\") as file: \n",
    "    df = pickle.load(file)"
   ]
  },
  {
   "cell_type": "code",
   "execution_count": 3,
   "metadata": {},
   "outputs": [
    {
     "data": {
      "text/html": [
       "<div>\n",
       "<style scoped>\n",
       "    .dataframe tbody tr th:only-of-type {\n",
       "        vertical-align: middle;\n",
       "    }\n",
       "\n",
       "    .dataframe tbody tr th {\n",
       "        vertical-align: top;\n",
       "    }\n",
       "\n",
       "    .dataframe thead th {\n",
       "        text-align: right;\n",
       "    }\n",
       "</style>\n",
       "<table border=\"1\" class=\"dataframe\">\n",
       "  <thead>\n",
       "    <tr style=\"text-align: right;\">\n",
       "      <th></th>\n",
       "      <th>policy</th>\n",
       "      <th>self_empl</th>\n",
       "      <th>asthma</th>\n",
       "      <th>smoking</th>\n",
       "      <th>COPD</th>\n",
       "      <th>winter</th>\n",
       "      <th>hay_fever</th>\n",
       "      <th>pneu</th>\n",
       "      <th>inf</th>\n",
       "      <th>dysp</th>\n",
       "      <th>cough</th>\n",
       "      <th>pain</th>\n",
       "      <th>fever</th>\n",
       "      <th>nasal</th>\n",
       "      <th>antibiotics</th>\n",
       "      <th>days_at_home</th>\n",
       "    </tr>\n",
       "  </thead>\n",
       "  <tbody>\n",
       "    <tr>\n",
       "      <th>0</th>\n",
       "      <td>yes</td>\n",
       "      <td>no</td>\n",
       "      <td>no</td>\n",
       "      <td>no</td>\n",
       "      <td>no</td>\n",
       "      <td>no</td>\n",
       "      <td>no</td>\n",
       "      <td>no</td>\n",
       "      <td>no</td>\n",
       "      <td>no</td>\n",
       "      <td>no</td>\n",
       "      <td>no</td>\n",
       "      <td>high</td>\n",
       "      <td>no</td>\n",
       "      <td>yes</td>\n",
       "      <td>2</td>\n",
       "    </tr>\n",
       "    <tr>\n",
       "      <th>1</th>\n",
       "      <td>yes</td>\n",
       "      <td>no</td>\n",
       "      <td>no</td>\n",
       "      <td>no</td>\n",
       "      <td>no</td>\n",
       "      <td>no</td>\n",
       "      <td>no</td>\n",
       "      <td>no</td>\n",
       "      <td>no</td>\n",
       "      <td>no</td>\n",
       "      <td>no</td>\n",
       "      <td>no</td>\n",
       "      <td>none</td>\n",
       "      <td>no</td>\n",
       "      <td>no</td>\n",
       "      <td>2</td>\n",
       "    </tr>\n",
       "    <tr>\n",
       "      <th>2</th>\n",
       "      <td>yes</td>\n",
       "      <td>no</td>\n",
       "      <td>no</td>\n",
       "      <td>no</td>\n",
       "      <td>no</td>\n",
       "      <td>no</td>\n",
       "      <td>no</td>\n",
       "      <td>no</td>\n",
       "      <td>no</td>\n",
       "      <td>no</td>\n",
       "      <td>no</td>\n",
       "      <td>no</td>\n",
       "      <td>low</td>\n",
       "      <td>no</td>\n",
       "      <td>no</td>\n",
       "      <td>3</td>\n",
       "    </tr>\n",
       "    <tr>\n",
       "      <th>3</th>\n",
       "      <td>no</td>\n",
       "      <td>yes</td>\n",
       "      <td>no</td>\n",
       "      <td>no</td>\n",
       "      <td>no</td>\n",
       "      <td>no</td>\n",
       "      <td>yes</td>\n",
       "      <td>no</td>\n",
       "      <td>no</td>\n",
       "      <td>no</td>\n",
       "      <td>no</td>\n",
       "      <td>no</td>\n",
       "      <td>low</td>\n",
       "      <td>yes</td>\n",
       "      <td>no</td>\n",
       "      <td>2</td>\n",
       "    </tr>\n",
       "    <tr>\n",
       "      <th>4</th>\n",
       "      <td>yes</td>\n",
       "      <td>no</td>\n",
       "      <td>no</td>\n",
       "      <td>no</td>\n",
       "      <td>no</td>\n",
       "      <td>yes</td>\n",
       "      <td>no</td>\n",
       "      <td>no</td>\n",
       "      <td>no</td>\n",
       "      <td>no</td>\n",
       "      <td>no</td>\n",
       "      <td>no</td>\n",
       "      <td>none</td>\n",
       "      <td>no</td>\n",
       "      <td>no</td>\n",
       "      <td>1</td>\n",
       "    </tr>\n",
       "  </tbody>\n",
       "</table>\n",
       "</div>"
      ],
      "text/plain": [
       "  policy self_empl asthma smoking COPD winter hay_fever pneu inf dysp cough  \\\n",
       "0    yes        no     no      no   no     no        no   no  no   no    no   \n",
       "1    yes        no     no      no   no     no        no   no  no   no    no   \n",
       "2    yes        no     no      no   no     no        no   no  no   no    no   \n",
       "3     no       yes     no      no   no     no       yes   no  no   no    no   \n",
       "4    yes        no     no      no   no    yes        no   no  no   no    no   \n",
       "\n",
       "  pain fever nasal antibiotics  days_at_home  \n",
       "0   no  high    no         yes             2  \n",
       "1   no  none    no          no             2  \n",
       "2   no   low    no          no             3  \n",
       "3   no   low   yes          no             2  \n",
       "4   no  none    no          no             1  "
      ]
     },
     "execution_count": 3,
     "metadata": {},
     "output_type": "execute_result"
    }
   ],
   "source": [
    "df_tabular = df[[\"policy\", \"self_empl\", \"asthma\", \"smoking\", \"COPD\", \"winter\", \"hay_fever\", \"pneu\", \"inf\", \"dysp\", \"cough\", \"pain\", \"fever\", \"nasal\", \"antibiotics\", \"days_at_home\"]]\n",
    "df_tabular.head()"
   ]
  },
  {
   "cell_type": "markdown",
   "metadata": {},
   "source": [
    "We first generate the prompts for the portion of the patients where at least one symptom is positive. There are 6371 patients like this (out of 10000 total). "
   ]
  },
  {
   "cell_type": "code",
   "execution_count": 4,
   "metadata": {},
   "outputs": [],
   "source": [
    "# make prompt generation object\n",
    "prompt_gen = PromptGeneration(df_tabular, 2024)\n",
    "\n",
    "# df containing prompts for the patients where at least one symptom is positive\n",
    "df_prompt_pos = prompt_gen.generate_prompts_positive() "
   ]
  },
  {
   "cell_type": "markdown",
   "metadata": {},
   "source": [
    "Additional columns were added to the dataframe, to help with the construction of the prompt: \n",
    "- {symptom}_mention: True/False (whether symptom should be mentioned in note or not)\n",
    "- {symptom}_descr: descriptor added to prompt, describing the symptom conditional on its cause\n",
    "- symptoms_string: list of symptoms to be used as first part of the prompt\n",
    "- no_mention_symptoms_string: list of symptoms to be used as second part of the prompt\n",
    "- background_string: list of underlying background conditions. \n",
    "\n",
    "All these elements are used to build up the prompt. For example, the prompt for the first patient (ID: 0) is printed below. "
   ]
  },
  {
   "cell_type": "code",
   "execution_count": 5,
   "metadata": {},
   "outputs": [
    {
     "data": {
      "text/plain": [
       "6371"
      ]
     },
     "execution_count": 5,
     "metadata": {},
     "output_type": "execute_result"
    }
   ],
   "source": [
    "len(df_prompt_pos)"
   ]
  },
  {
   "cell_type": "code",
   "execution_count": 6,
   "metadata": {},
   "outputs": [
    {
     "data": {
      "text/html": [
       "<div>\n",
       "<style scoped>\n",
       "    .dataframe tbody tr th:only-of-type {\n",
       "        vertical-align: middle;\n",
       "    }\n",
       "\n",
       "    .dataframe tbody tr th {\n",
       "        vertical-align: top;\n",
       "    }\n",
       "\n",
       "    .dataframe thead th {\n",
       "        text-align: right;\n",
       "    }\n",
       "</style>\n",
       "<table border=\"1\" class=\"dataframe\">\n",
       "  <thead>\n",
       "    <tr style=\"text-align: right;\">\n",
       "      <th></th>\n",
       "      <th>asthma</th>\n",
       "      <th>smoking</th>\n",
       "      <th>COPD</th>\n",
       "      <th>hay_fever</th>\n",
       "      <th>pneu</th>\n",
       "      <th>inf</th>\n",
       "      <th>dysp</th>\n",
       "      <th>cough</th>\n",
       "      <th>pain</th>\n",
       "      <th>fever</th>\n",
       "      <th>...</th>\n",
       "      <th>pain_mention</th>\n",
       "      <th>fever_mention</th>\n",
       "      <th>nasal_mention</th>\n",
       "      <th>dysp_descr</th>\n",
       "      <th>cough_descr</th>\n",
       "      <th>pain_descr</th>\n",
       "      <th>symptoms_string</th>\n",
       "      <th>no_mention_symptoms_string</th>\n",
       "      <th>background_string</th>\n",
       "      <th>prompt</th>\n",
       "    </tr>\n",
       "  </thead>\n",
       "  <tbody>\n",
       "    <tr>\n",
       "      <th>0</th>\n",
       "      <td>no</td>\n",
       "      <td>no</td>\n",
       "      <td>no</td>\n",
       "      <td>no</td>\n",
       "      <td>no</td>\n",
       "      <td>no</td>\n",
       "      <td>no</td>\n",
       "      <td>no</td>\n",
       "      <td>no</td>\n",
       "      <td>high</td>\n",
       "      <td>...</td>\n",
       "      <td>True</td>\n",
       "      <td>True</td>\n",
       "      <td>False</td>\n",
       "      <td></td>\n",
       "      <td></td>\n",
       "      <td></td>\n",
       "      <td>- respiratory pain: no\\n- fever: high\\n- cough...</td>\n",
       "      <td>- nasal symptoms\\n</td>\n",
       "      <td></td>\n",
       "      <td>Create a short clinical note related to the fo...</td>\n",
       "    </tr>\n",
       "    <tr>\n",
       "      <th>2</th>\n",
       "      <td>no</td>\n",
       "      <td>no</td>\n",
       "      <td>no</td>\n",
       "      <td>no</td>\n",
       "      <td>no</td>\n",
       "      <td>no</td>\n",
       "      <td>no</td>\n",
       "      <td>no</td>\n",
       "      <td>no</td>\n",
       "      <td>low</td>\n",
       "      <td>...</td>\n",
       "      <td>False</td>\n",
       "      <td>False</td>\n",
       "      <td>False</td>\n",
       "      <td></td>\n",
       "      <td></td>\n",
       "      <td></td>\n",
       "      <td>- cough: no\\n- dyspnea: no\\n</td>\n",
       "      <td>- respiratory pain\\n- nasal symptoms\\n- fever\\n</td>\n",
       "      <td></td>\n",
       "      <td>Create a short clinical note related to the fo...</td>\n",
       "    </tr>\n",
       "    <tr>\n",
       "      <th>3</th>\n",
       "      <td>no</td>\n",
       "      <td>no</td>\n",
       "      <td>no</td>\n",
       "      <td>yes</td>\n",
       "      <td>no</td>\n",
       "      <td>no</td>\n",
       "      <td>no</td>\n",
       "      <td>no</td>\n",
       "      <td>no</td>\n",
       "      <td>low</td>\n",
       "      <td>...</td>\n",
       "      <td>True</td>\n",
       "      <td>True</td>\n",
       "      <td>True</td>\n",
       "      <td></td>\n",
       "      <td></td>\n",
       "      <td></td>\n",
       "      <td>- nasal symptoms: yes\\n- fever: low\\n- respira...</td>\n",
       "      <td></td>\n",
       "      <td>- hay fever\\n</td>\n",
       "      <td>Create a short clinical note related to the fo...</td>\n",
       "    </tr>\n",
       "    <tr>\n",
       "      <th>5</th>\n",
       "      <td>no</td>\n",
       "      <td>no</td>\n",
       "      <td>no</td>\n",
       "      <td>no</td>\n",
       "      <td>no</td>\n",
       "      <td>yes</td>\n",
       "      <td>no</td>\n",
       "      <td>yes</td>\n",
       "      <td>yes</td>\n",
       "      <td>high</td>\n",
       "      <td>...</td>\n",
       "      <td>True</td>\n",
       "      <td>True</td>\n",
       "      <td>True</td>\n",
       "      <td></td>\n",
       "      <td>light</td>\n",
       "      <td>light</td>\n",
       "      <td>- nasal symptoms: yes\\n- respiratory pain: yes...</td>\n",
       "      <td></td>\n",
       "      <td></td>\n",
       "      <td>Create a short clinical note related to the fo...</td>\n",
       "    </tr>\n",
       "    <tr>\n",
       "      <th>6</th>\n",
       "      <td>yes</td>\n",
       "      <td>no</td>\n",
       "      <td>no</td>\n",
       "      <td>no</td>\n",
       "      <td>no</td>\n",
       "      <td>no</td>\n",
       "      <td>yes</td>\n",
       "      <td>yes</td>\n",
       "      <td>yes</td>\n",
       "      <td>low</td>\n",
       "      <td>...</td>\n",
       "      <td>True</td>\n",
       "      <td>True</td>\n",
       "      <td>False</td>\n",
       "      <td>air hunger</td>\n",
       "      <td>dry</td>\n",
       "      <td>burning pain in windpipe</td>\n",
       "      <td>- cough: yes, dry\\n- fever: low\\n- respiratory...</td>\n",
       "      <td>- nasal symptoms\\n</td>\n",
       "      <td>- asthma\\n</td>\n",
       "      <td>Create a short clinical note related to the fo...</td>\n",
       "    </tr>\n",
       "  </tbody>\n",
       "</table>\n",
       "<p>5 rows × 23 columns</p>\n",
       "</div>"
      ],
      "text/plain": [
       "  asthma smoking COPD hay_fever pneu  inf dysp cough pain fever  ...  \\\n",
       "0     no      no   no        no   no   no   no    no   no  high  ...   \n",
       "2     no      no   no        no   no   no   no    no   no   low  ...   \n",
       "3     no      no   no       yes   no   no   no    no   no   low  ...   \n",
       "5     no      no   no        no   no  yes   no   yes  yes  high  ...   \n",
       "6    yes      no   no        no   no   no  yes   yes  yes   low  ...   \n",
       "\n",
       "  pain_mention  fever_mention  nasal_mention  dysp_descr  cough_descr  \\\n",
       "0         True           True          False                            \n",
       "2        False          False          False                            \n",
       "3         True           True           True                            \n",
       "5         True           True           True                    light   \n",
       "6         True           True          False  air hunger          dry   \n",
       "\n",
       "                 pain_descr  \\\n",
       "0                             \n",
       "2                             \n",
       "3                             \n",
       "5                     light   \n",
       "6  burning pain in windpipe   \n",
       "\n",
       "                                     symptoms_string  \\\n",
       "0  - respiratory pain: no\\n- fever: high\\n- cough...   \n",
       "2                       - cough: no\\n- dyspnea: no\\n   \n",
       "3  - nasal symptoms: yes\\n- fever: low\\n- respira...   \n",
       "5  - nasal symptoms: yes\\n- respiratory pain: yes...   \n",
       "6  - cough: yes, dry\\n- fever: low\\n- respiratory...   \n",
       "\n",
       "                        no_mention_symptoms_string background_string  \\\n",
       "0                               - nasal symptoms\\n                     \n",
       "2  - respiratory pain\\n- nasal symptoms\\n- fever\\n                     \n",
       "3                                                      - hay fever\\n   \n",
       "5                                                                      \n",
       "6                               - nasal symptoms\\n        - asthma\\n   \n",
       "\n",
       "                                              prompt  \n",
       "0  Create a short clinical note related to the fo...  \n",
       "2  Create a short clinical note related to the fo...  \n",
       "3  Create a short clinical note related to the fo...  \n",
       "5  Create a short clinical note related to the fo...  \n",
       "6  Create a short clinical note related to the fo...  \n",
       "\n",
       "[5 rows x 23 columns]"
      ]
     },
     "execution_count": 6,
     "metadata": {},
     "output_type": "execute_result"
    }
   ],
   "source": [
    "df_prompt_pos.head()"
   ]
  },
  {
   "cell_type": "code",
   "execution_count": 7,
   "metadata": {},
   "outputs": [
    {
     "name": "stdout",
     "output_type": "stream",
     "text": [
      "Create a short clinical note related to the following patient encounter. \n",
      "\n",
      "The following information is known about the patient's symptoms:\n",
      "- respiratory pain: no\n",
      "- fever: high\n",
      "- cough: no\n",
      "- dyspnea: no\n",
      "\n",
      "Don't mention anything about the following symptoms:\n",
      "- nasal symptoms\n",
      "\n",
      "The note has the following structure: \n",
      "**History**\n",
      "<history>\n",
      "**Physical Examination**\n",
      "<physical examination results>\n",
      "\n",
      "Do not include any suspicions of possible diagnoses in the clinical note (no \"assessment\" field). You can imagine additional context or details described by the patient, but no additional symptoms. Do not mention patient gender or age. Your notes can be relatively long (around 5 lines or more in history).\n",
      "\n",
      "Do not add a title. Do not add a final comment after generating the note. \n"
     ]
    }
   ],
   "source": [
    "print(df_prompt_pos.loc[0][\"prompt\"])"
   ]
  },
  {
   "cell_type": "markdown",
   "metadata": {},
   "source": [
    "We can then pass this prompt to GPT-4o using the ChatCompletions API. We used the \"prompt_GPT\" function in prompt_generation.py to generate our texts. We don't demonstrate its use here, since you need to log in to OpenAI with your own API key to make it work. \n",
    "\n",
    "The remaining 3269 patients had symptoms that were all negative (all \"no\"). Of these patients, 239 had at least one underlying respiratory condition. In this case, we use a similar prompt compared to the patients which had at least one positive symptom. Again, we can use the \"prompt_GPT\" function to generate a text note. "
   ]
  },
  {
   "cell_type": "code",
   "execution_count": 8,
   "metadata": {},
   "outputs": [],
   "source": [
    "# df containing prompts for the patients where all symptoms are negative, but patient has at least one \n",
    "# underlying respiratory condition\n",
    "df_prompt_neg_bg = prompt_gen.generate_prompts_negative_bg()"
   ]
  },
  {
   "cell_type": "code",
   "execution_count": 9,
   "metadata": {},
   "outputs": [
    {
     "data": {
      "text/plain": [
       "239"
      ]
     },
     "execution_count": 9,
     "metadata": {},
     "output_type": "execute_result"
    }
   ],
   "source": [
    "len(df_prompt_neg_bg)"
   ]
  },
  {
   "cell_type": "code",
   "execution_count": 12,
   "metadata": {},
   "outputs": [
    {
     "name": "stdout",
     "output_type": "stream",
     "text": [
      "Create a short clinical note related to the following patient encounter.\n",
      "            \n",
      "The patient does not experience any of the following symptoms:\n",
      "- fever\n",
      "- dyspnea\n",
      "- chest pain / pain attributed to airways\n",
      "- sneezing / blocked nose\n",
      "- cough\n",
      "            \n",
      "The patient currently has the following underlying health conditions, which may or may not be mentioned in the note if relevant:\n",
      "- smoking\n",
      "\n",
      "The note has the following structure: \n",
      "**History**\n",
      "<history>\n",
      "**Physical Examination**\n",
      "<physical examination results>\n",
      "\n",
      "Do not include any suspicions of possible diagnoses in the clinical note (no \"assessment\" field). You can imagine context or details described by the patient. Do not mention patient gender or age. Your notes can be relatively long (around 5 lines or more in history).\n",
      "\n",
      "Do not add a title. Do not add a final comment after generating the note. \n"
     ]
    }
   ],
   "source": [
    "print(df_prompt_neg_bg.iloc[0][\"prompt\"])"
   ]
  },
  {
   "cell_type": "markdown",
   "metadata": {},
   "source": [
    "Finally, there are 3390 patients left, which do not have any positive symptoms, and no underlying respiratory conditions either. In this case, we want to give the LLM a little more freedom to invent another reason of visit, unrelated to respiratory diseases. We use a different prompt to generate these notes. "
   ]
  },
  {
   "cell_type": "code",
   "execution_count": 22,
   "metadata": {},
   "outputs": [],
   "source": [
    "# select all patients without any positive symptoms, and without any underlying respiratory condition\n",
    "df_neg_symptoms = df_tabular.loc[(df_tabular[\"dysp\"]==\"no\")&(df_tabular[\"cough\"]==\"no\")&(df_tabular[\"pain\"]==\"no\")&(df_tabular[\"fever\"]==\"none\")&(df_tabular[\"nasal\"]==\"no\")].copy()\n",
    "df_neg_symptoms_no_bg = df_neg_symptoms.loc[(df_neg_symptoms[\"asthma\"]==\"no\")&(df_neg_symptoms[\"smoking\"]==\"no\")&(df_neg_symptoms[\"COPD\"]==\"no\")&(df_neg_symptoms[\"hay_fever\"]==\"no\")].copy()"
   ]
  },
  {
   "cell_type": "code",
   "execution_count": 23,
   "metadata": {},
   "outputs": [
    {
     "data": {
      "text/plain": [
       "3390"
      ]
     },
     "execution_count": 23,
     "metadata": {},
     "output_type": "execute_result"
    }
   ],
   "source": [
    "len(df_neg_symptoms_no_bg)"
   ]
  },
  {
   "cell_type": "markdown",
   "metadata": {},
   "source": [
    "We use the following prompt to generate these unrelated text notes. Note that we ask to generate 3 at the same time, to encourage more creativity and variation. We are able to do this now, since the prompt is NOT customized to each patient (these patients all have the same set of symptoms and underlying conditions, so there is nothing to customize). "
   ]
  },
  {
   "cell_type": "code",
   "execution_count": 17,
   "metadata": {},
   "outputs": [
    {
     "name": "stdout",
     "output_type": "stream",
     "text": [
      "Create 3 short clinical notes related to the following patient encounter.\n",
      " \n",
      "The patient does not experience any of the following symptoms:\n",
      "- fever\n",
      "- dyspnea\n",
      "- chest pain / pain attributed to airways\n",
      "- sneezing / blocked nose\n",
      "- cough\n",
      "\n",
      "The patient does not have any of the following health conditions, so don't mention these: \n",
      "- asthma\n",
      "- COPD\n",
      "- smoking\n",
      "- hay fever\n",
      "\n",
      "The note has the following structure: \n",
      "**History**\n",
      "<history>\n",
      "**Physical Examination**\n",
      "<physical examination results>\n",
      "\n",
      "Do not include any suspicions of possible diagnoses in the clinical note (no \"assessment\" field). You can imagine context or details described by the patient. Do not mention patient gender or age. Your notes can be relatively long (around 5 lines or more in history).\n",
      "\n",
      "Separate the individual notes with \"---\". Do not add a title. Do not add a final comment after generating the note. \n"
     ]
    }
   ],
   "source": [
    "base_prompt = \"\"\"Create 3 short clinical notes related to the following patient encounter.\n",
    " \n",
    "The patient does not experience any of the following symptoms:\n",
    "- fever\n",
    "- dyspnea\n",
    "- chest pain / pain attributed to airways\n",
    "- sneezing / blocked nose\n",
    "- cough\n",
    "\n",
    "The patient does not have any of the following health conditions, so don't mention these: \n",
    "- asthma\n",
    "- COPD\n",
    "- smoking\n",
    "- hay fever\n",
    "\n",
    "The note has the following structure: \n",
    "**History**\n",
    "<history>\n",
    "**Physical Examination**\n",
    "<physical examination results>\n",
    "\n",
    "Do not include any suspicions of possible diagnoses in the clinical note (no \"assessment\" field). You can imagine context or details described by the patient. Do not mention patient gender or age. Your notes can be relatively long (around 5 lines or more in history).\n",
    "\n",
    "Separate the individual notes with \"---\". Do not add a title. Do not add a final comment after generating the note. \"\"\"\n",
    "\n",
    "print(base_prompt)"
   ]
  },
  {
   "cell_type": "markdown",
   "metadata": {},
   "source": [
    "We now use the \"prompt_GPT_no_symptom_no_bg\" to prompt the LLM for these special cases. The LLM will return 3 notes at once, so we need to split them up. For this, the function \"split_unrelated_notes\" is used. It throws up an error message if the requested format for the 3 notes is not followed, in which case the notes cannot be separated and the LLM's response can be discarded. \n",
    "\n",
    "The code below demonstrates how we would build up the full list of all so-called unrelated notes. This process was repeated until 3390 unrelated notes were obtained. These were then randomly added to the dataframe. To be able to run the code below, you must fill in your own OpenAI access token. "
   ]
  },
  {
   "cell_type": "code",
   "execution_count": null,
   "metadata": {},
   "outputs": [],
   "source": [
    "# prompt three notes at once, because prompt is the same for every patient in df_neg_symptoms_no_bg\n",
    "# here, we do this 5 times, but you can do this as many times as needed to fill up the dataframe\n",
    "all_responses = []\n",
    "for i in range(5):\n",
    "    response = prompt_GPT_no_symptom_no_bg()\n",
    "    all_responses.append(response)\n",
    "unrelated_notes = []\n",
    "for response in all_responses:\n",
    "    unrelated_notes += split_unrelated_notes(response)\n",
    "# once you have gathered enough unrelated_notes, you can add them to the dataframe randomly \n",
    "# for any note in df_neg_symptoms_no_bg\n",
    "df_neg_symptoms_no_bg.loc[1, \"text_note\"] = unrelated_notes[0]"
   ]
  },
  {
   "cell_type": "markdown",
   "metadata": {},
   "source": [
    "After all text notes were generated and filled in in the dataset, the three dataframes are merged again (in order). "
   ]
  },
  {
   "cell_type": "code",
   "execution_count": 24,
   "metadata": {},
   "outputs": [],
   "source": [
    "import pandas as pd\n",
    "# at the end, merge the dataframes again\n",
    "df_total = pd.concat([df_prompt_pos, df_prompt_neg_bg, df_neg_symptoms_no_bg], sort=False).sort_index()"
   ]
  },
  {
   "cell_type": "markdown",
   "metadata": {},
   "source": [
    "Once we had a dataframe filled with normal text notes, we generated the compact text notes. For this, we simply provided the original prompt together with the model's response, after which we asked the LLM to write the same note in more compact style. This is encoded in the function \"prompt_GPT_advanced_note\". Once again, the code can be ran by specifying your own OpenAI access token. "
   ]
  },
  {
   "cell_type": "markdown",
   "metadata": {},
   "source": [
    "The full prompt for every patient, together with the helper columns used to build the prompt, can be found in the pickled dataframe \"data/df_prompts.p\". "
   ]
  },
  {
   "cell_type": "code",
   "execution_count": 41,
   "metadata": {},
   "outputs": [],
   "source": [
    "with open(\"data/df_prompts.p\", \"rb\") as file: \n",
    "    df_prompts = pickle.load(file)"
   ]
  },
  {
   "cell_type": "code",
   "execution_count": 42,
   "metadata": {},
   "outputs": [
    {
     "data": {
      "text/plain": [
       "asthma                                                                      yes\n",
       "smoking                                                                      no\n",
       "COPD                                                                         no\n",
       "hay_fever                                                                    no\n",
       "pneu                                                                         no\n",
       "inf                                                                         yes\n",
       "dysp                                                                        yes\n",
       "cough                                                                       yes\n",
       "pain                                                                        yes\n",
       "fever                                                                      none\n",
       "nasal                                                                        no\n",
       "dysp_mention                                                               True\n",
       "cough_mention                                                              True\n",
       "pain_mention                                                               True\n",
       "fever_mention                                                             False\n",
       "nasal_mention                                                             False\n",
       "dysp_descr                                                       attack-related\n",
       "cough_descr                                                       day and night\n",
       "pain_descr                                              burning pain in trachea\n",
       "symptoms_string               - cough: yes, day and night\\n- dyspnea: yes, a...\n",
       "no_mention_symptoms_string                          - nasal symptoms\\n- fever\\n\n",
       "background_string                                                    - asthma\\n\n",
       "prompt                        Create a short clinical note related to the fo...\n",
       "text_note                     **History**\\nThe patient presents with a persi...\n",
       "advanced_note                 **History**\\nPt presents with persistent cough...\n",
       "Name: 556, dtype: object"
      ]
     },
     "execution_count": 42,
     "metadata": {},
     "output_type": "execute_result"
    }
   ],
   "source": [
    "df_prompts.iloc[556]"
   ]
  },
  {
   "cell_type": "code",
   "execution_count": 44,
   "metadata": {},
   "outputs": [
    {
     "name": "stdout",
     "output_type": "stream",
     "text": [
      "**History**\n",
      "The patient presents with a persistent cough that occurs both day and night. Additionally, they report episodes of dyspnea associated with these attacks. The patient describes a burning pain localized to the trachea. The onset of symptoms seems to exacerbate their known asthma, which has been previously managed. The cough is non-productive, and lifestyle factors or recent travel were denied.\n",
      "\n",
      "**Physical Examination**\n",
      "Vital signs are within normal limits. No noticeable nasal congestion or rhinorrhea. Respiratory examination reveals intermittent wheezing and prolonged expiratory phase. There is no use of accessory muscles observed. The trachea is midline with no tenderness upon palpation. Thoracic auscultation confirms decreased air entry on forced expiration. No cyanosis or clubbing detected.\n"
     ]
    }
   ],
   "source": [
    "print(df_prompts.iloc[556][\"text_note\"])"
   ]
  },
  {
   "cell_type": "code",
   "execution_count": 45,
   "metadata": {},
   "outputs": [
    {
     "name": "stdout",
     "output_type": "stream",
     "text": [
      "**History**\n",
      "Pt presents with persistent cough, day & night. Reports dyspnea linked to attacks and burning pain in trachea. Symptoms exacerbate pt’s known asthma. Non-productive cough. Denies recent travel or lifestyle factors.\n",
      "\n",
      "**Physical Examination**\n",
      "VS WNL. No nasal congestion/rhinorrhea. Intermittent wheezing, prolonged expiratory phase noted. No accessory muscle use. Trachea midline, non-tender. Decreased air entry on forced expiration. No cyanosis/clubbing.\n"
     ]
    }
   ],
   "source": [
    "print(df_prompts.iloc[556][\"advanced_note\"])"
   ]
  },
  {
   "cell_type": "markdown",
   "metadata": {},
   "source": [
    "In the final SynSUM dataset, we only retain the tabular patient record and the two text notes (normal and compact). The dataframe can be found in \"data/df_synsum.p\". "
   ]
  },
  {
   "cell_type": "markdown",
   "metadata": {},
   "source": [
    "This all culminates in the SynSUM dataset, of which we print the first two records below. "
   ]
  },
  {
   "cell_type": "code",
   "execution_count": 46,
   "metadata": {},
   "outputs": [],
   "source": [
    "import pickle\n",
    "with open(\"data/df_synsum.p\", \"rb\") as file: \n",
    "    df = pickle.load(file)"
   ]
  },
  {
   "cell_type": "code",
   "execution_count": 47,
   "metadata": {},
   "outputs": [
    {
     "data": {
      "text/plain": [
       "policy                                                         yes\n",
       "self_empl                                                       no\n",
       "asthma                                                          no\n",
       "smoking                                                         no\n",
       "COPD                                                            no\n",
       "winter                                                          no\n",
       "hay_fever                                                       no\n",
       "pneu                                                            no\n",
       "inf                                                             no\n",
       "dysp                                                            no\n",
       "cough                                                           no\n",
       "pain                                                            no\n",
       "fever                                                         high\n",
       "nasal                                                           no\n",
       "antibiotics                                                    yes\n",
       "days_at_home                                                     2\n",
       "text             **History**\\nPatient reports a significant inc...\n",
       "advanced_text    **History**\\nPt reports high fever for 48 hrs,...\n",
       "Name: 0, dtype: object"
      ]
     },
     "execution_count": 47,
     "metadata": {},
     "output_type": "execute_result"
    }
   ],
   "source": [
    "df.iloc[0]"
   ]
  },
  {
   "cell_type": "code",
   "execution_count": 33,
   "metadata": {},
   "outputs": [
    {
     "name": "stdout",
     "output_type": "stream",
     "text": [
      "**History**\n",
      "Patient reports a significant increase in body temperature over the last 48 hours, exceeding normal ranges, indicating a high fever. There have been no respiratory symptoms such as pain, dyspnea, or cough. The patient illustrates general malaise and mentions feeling very fatigued due to the fever. No notable changes in daily routine or exposure to environments that might typically contribute to fever are reported. Recent stress levels and potential exposure to infectious agents during travels are also discussed.\n",
      "\n",
      "**Physical Examination**\n",
      "Vital signs show elevated temperature (103 °F). Heart rate is slightly tachycardic at 98 bpm, corresponding with the fever. Oxygen saturation is within normal limits at 98%, and lungs are clear to auscultation without any added sounds. Abdominal examination is normal, without tenderness or organomegaly. Skin shows no rashes, warmth, or lesions. Capillary refill time is adequate. Neurological assessment is non-focal. Overall, there are no evident physical findings to explain the fever apart from the stated temperature elevation.\n"
     ]
    }
   ],
   "source": [
    "print(df.iloc[0][\"text\"])"
   ]
  },
  {
   "cell_type": "code",
   "execution_count": 48,
   "metadata": {},
   "outputs": [
    {
     "name": "stdout",
     "output_type": "stream",
     "text": [
      "**History**\n",
      "Pt reports high fever for 48 hrs, denies resp pain, dyspnea, or cough. Describes significant fatigue and malaise. No recent routine changes or known infectious exposures. Discusses recent stress and travel.\n",
      "\n",
      "**Physical Examination**\n",
      "VS: Temp 103 °F, HR 98 bpm (tachycardic), O2 sat 98%. Lungs clear, no adventitious sounds. Abd: non-tender, no organomegaly. Skin: no rashes/lesions, normal CRT. Neuro: non-focal. Overall: WNL apart from elevated fever.\n"
     ]
    }
   ],
   "source": [
    "print(df.iloc[0][\"advanced_text\"])"
   ]
  },
  {
   "cell_type": "code",
   "execution_count": 49,
   "metadata": {},
   "outputs": [
    {
     "data": {
      "text/plain": [
       "policy                                                         yes\n",
       "self_empl                                                       no\n",
       "asthma                                                          no\n",
       "smoking                                                         no\n",
       "COPD                                                            no\n",
       "winter                                                          no\n",
       "hay_fever                                                       no\n",
       "pneu                                                            no\n",
       "inf                                                             no\n",
       "dysp                                                            no\n",
       "cough                                                           no\n",
       "pain                                                            no\n",
       "fever                                                         none\n",
       "nasal                                                           no\n",
       "antibiotics                                                     no\n",
       "days_at_home                                                     2\n",
       "text             **History**\\nThe patient reports a gradual ons...\n",
       "advanced_text    **History**\\nPt reports gradual onset of fatig...\n",
       "Name: 1, dtype: object"
      ]
     },
     "execution_count": 49,
     "metadata": {},
     "output_type": "execute_result"
    }
   ],
   "source": [
    "df.iloc[1]"
   ]
  },
  {
   "cell_type": "code",
   "execution_count": 50,
   "metadata": {},
   "outputs": [
    {
     "name": "stdout",
     "output_type": "stream",
     "text": [
      "**History**\n",
      "The patient reports a gradual onset of fatigue over the past month without any noticeable triggers. Additionally, they describe experiencing intermittent headaches that are relieved with over-the-counter analgesics. Sleep quality has been variable, contributing to a sense of ongoing tiredness upon waking. There is no mention of dietary changes or recent travel. The patient denies experiencing appetite loss or any significant recent weight changes.\n",
      "\n",
      "**Physical Examination**\n",
      "Vital signs are stable, with blood pressure at 120/80 mmHg and a pulse of 72 bpm. Examination of the head and neck reveals no abnormalities; the thyroid gland is non-palpable. No lymphadenopathy is noted. Cardiac and respiratory examinations are unremarkable. Abdominal examination shows normal bowel sounds with no tenderness or masses. Neurological assessment reveals no focal deficits.\n"
     ]
    }
   ],
   "source": [
    "print(df.iloc[1][\"text\"])"
   ]
  },
  {
   "cell_type": "code",
   "execution_count": 51,
   "metadata": {},
   "outputs": [
    {
     "name": "stdout",
     "output_type": "stream",
     "text": [
      "**History**\n",
      "Pt reports gradual onset of fatigue over past month, with intermittent HAs relieved by OTC analgesics. Variable sleep quality, tiredness on waking. No dietary changes, recent travel, appetite loss, or significant recent weight changes.\n",
      "\n",
      "**Physical Examination**\n",
      "VS: BP 120/80, HR 72. Head/neck: WNL, no thyroid abnormalities, no LAD. Cardio/resp: Unremarkable. Abd: Normal BS, non-tender, no masses. Neuro: No focal deficits.\n"
     ]
    }
   ],
   "source": [
    "print(df.iloc[1][\"advanced_text\"])"
   ]
  },
  {
   "cell_type": "markdown",
   "metadata": {},
   "source": [
    "## Consistency check\n",
    "\n",
    "To check that no mistakes were made, we ask GPT-4 to verify once again whether the information in the note corresponds with the information in the prompt. We ask it to output either \"Yes.\" if the note is consistent with the prompt, or \"No.\" if not. If the answer is \"No.\", we ask GPT4 to provide reasoning for this. For this, we used the prompt below, which we applied to all 10.000 notes. "
   ]
  },
  {
   "cell_type": "code",
   "execution_count": 5,
   "metadata": {},
   "outputs": [],
   "source": [
    "import pickle\n",
    "with open(\"../data/df_prompts.p\", \"rb\") as file: \n",
    "    df = pickle.load(file)"
   ]
  },
  {
   "cell_type": "code",
   "execution_count": 6,
   "metadata": {},
   "outputs": [],
   "source": [
    "def generate_filtered_prompt(row): \n",
    "\n",
    "    # extract patient information\n",
    "    note = row[\"text_note\"]\n",
    "    sympt_str = row[\"symptoms_string\"]\n",
    "    no_mention_sympt_str = row[\"no_mention_symptoms_string\"]\n",
    "    bg_str = row[\"background_string\"]\n",
    "\n",
    "    # deal with no observed symptoms instances\n",
    "    if isinstance(sympt_str, float):\n",
    "        sympt_str = \"- dyspnea: no\\n- cough: no\\n- respiratory pain: no\\n- fever: none\\n- nasal symptoms:no\\n\"\n",
    "        no_mention_sympt_str = \"\"\n",
    "    if isinstance(bg_str, float): \n",
    "        bg_str = \"\"\n",
    "        for bg in [\"asthma\", \"smoking\", \"COPD\", \"hay_fever\"]: \n",
    "            if row[bg] == \"yes\": \n",
    "                bg_str += f\"- {bg}\\n\"\n",
    "\n",
    "    # build prompt\n",
    "    note = note.replace(\"\\n\", \" \")\n",
    "    prompt = f\"The following information is known about the patient's symptoms. These may or may not be mentioned in the note:\\n{sympt_str}\\n\"\n",
    "    if len(no_mention_sympt_str) != 0: \n",
    "        prompt += f\"The following symptoms must not be mentioned:\\n{no_mention_sympt_str}\\n\"\n",
    "    if len(bg_str) != 0: \n",
    "        prompt += f\"The patient currently has the following underlying health conditions, which may or may not be mentioned in the note if relevant:\\n{bg_str}\\n\"\n",
    "    prompt += f\"Following the instructions you received, please indicate whether the note below is consistent with the patient information provided above:\\n{note}\"\n",
    "\n",
    "    return prompt"
   ]
  },
  {
   "cell_type": "code",
   "execution_count": 10,
   "metadata": {},
   "outputs": [
    {
     "name": "stdout",
     "output_type": "stream",
     "text": [
      "The following information is known about the patient's symptoms. These may or may not be mentioned in the note:\n",
      "- respiratory pain: no\n",
      "- fever: high\n",
      "- dyspnea: no\n",
      "- cough: no\n",
      "\n",
      "The following symptoms must not be mentioned:\n",
      "- nasal symptoms\n",
      "\n",
      "Following the instructions you received, please indicate whether the note below is consistent with the patient information provided above:\n",
      "**History** Patient reports a significant increase in body temperature over the last 48 hours, exceeding normal ranges, indicating a high fever. There have been no respiratory symptoms such as pain, dyspnea, or cough. The patient illustrates general malaise and mentions feeling very fatigued due to the fever. No notable changes in daily routine or exposure to environments that might typically contribute to fever are reported. Recent stress levels and potential exposure to infectious agents during travels are also discussed.  **Physical Examination** Vital signs show elevated temperature (103 °F). Heart rate is slightly tachycardic at 98 bpm, corresponding with the fever. Oxygen saturation is within normal limits at 98%, and lungs are clear to auscultation without any added sounds. Abdominal examination is normal, without tenderness or organomegaly. Skin shows no rashes, warmth, or lesions. Capillary refill time is adequate. Neurological assessment is non-focal. Overall, there are no evident physical findings to explain the fever apart from the stated temperature elevation.\n"
     ]
    }
   ],
   "source": [
    "prompt = generate_filtered_prompt(df.loc[0])\n",
    "print(prompt)"
   ]
  },
  {
   "cell_type": "code",
   "execution_count": null,
   "metadata": {},
   "outputs": [],
   "source": [
    "import openai\n",
    "\n",
    "SYS_MESSAGE_FILTER = \"\"\" \n",
    "    I will give you information about a patient's symptoms and some underlying health conditions. I will show you a clinical note that is supposed to describe this patient's encounter with a primary care doctor.\n",
    "    \n",
    "    Your job is to decide whether the note is consistent with the information you received on the patient. \n",
    "    \n",
    "    Please answer with \"Yes.\" if it is, and \"No.\" if it is not. If the answer is \"No.\", explain briefly why not. \n",
    "    \"\"\"\n",
    "    \n",
    "def prompt_GPT_filter(patient):\n",
    "\n",
    "    messages = []\n",
    "\n",
    "    system_message = {\"role\": \"system\", \"content\": SYS_MESSAGE_FILTER}\n",
    "    messages.append(system_message)\n",
    "\n",
    "    messages.append({\"role\": \"user\", \"content\": generate_filtered_prompt(patient)})\n",
    "\n",
    "    res = openai.chat.completions.create(\n",
    "        model = \"gpt-4o\", \n",
    "        temperature = 0.2, \n",
    "        max_tokens = 1000,\n",
    "        messages = messages, \n",
    "    )\n",
    "\n",
    "    response = res.choices[0].message.content # response\n",
    "\n",
    "    return response"
   ]
  },
  {
   "cell_type": "markdown",
   "metadata": {},
   "source": [
    "We then manually went through the responses and identified 52 notes out of 10.000 that were deemed inconsistent. For these, we asked GPT-4 to generate new notes (using the same prompt as was originally used). We then re-ran the consistency check for these new notes, and found that none of them were inconsistent anymore. We therefore swapped out the old inconsistent notes for their new counterparts, and generated new advanced notes. This left us with the final SynSUM dataset as found in \"SynSUM.csv\" and all dataframes in the \"data\" folder. "
   ]
  },
  {
   "cell_type": "markdown",
   "metadata": {},
   "source": []
  }
 ],
 "metadata": {
  "kernelspec": {
   "display_name": "bn-text",
   "language": "python",
   "name": "python3"
  },
  "language_info": {
   "codemirror_mode": {
    "name": "ipython",
    "version": 3
   },
   "file_extension": ".py",
   "mimetype": "text/x-python",
   "name": "python",
   "nbconvert_exporter": "python",
   "pygments_lexer": "ipython3",
   "version": "3.11.4"
  }
 },
 "nbformat": 4,
 "nbformat_minor": 2
}
